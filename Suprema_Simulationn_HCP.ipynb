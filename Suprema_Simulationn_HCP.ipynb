{
 "cells": [
  {
   "cell_type": "markdown",
   "metadata": {},
   "source": [
    "# Suprema Simulation\n"
   ]
  },
  {
   "cell_type": "markdown",
   "metadata": {},
   "source": [
    "## Pip Install"
   ]
  },
  {
   "cell_type": "code",
   "execution_count": null,
   "metadata": {},
   "outputs": [],
   "source": [
    "!pip uninstall pyblm --yes\n",
    "!cd blm_tmp; pip install .\n",
    "!cd /well/nichols/users/inf852/suprema_sims_repo \n"
   ]
  },
  {
   "cell_type": "code",
   "execution_count": null,
   "metadata": {},
   "outputs": [],
   "source": [
    "!pip install dask\n",
    "!pip install crtoolbox\n",
    "!pip install numpy\n",
    "!pip install matplotlib\n",
    "!pip install distributed"
   ]
  },
  {
   "cell_type": "markdown",
   "metadata": {},
   "source": [
    "## Imports"
   ]
  },
  {
   "cell_type": "code",
   "execution_count": 1,
   "metadata": {},
   "outputs": [],
   "source": [
    "# blm imports\n",
    "from blm.blm_cluster import _main as blm\n",
    "import yaml\n",
    "\n",
    "# Dask imports\n",
    "from dask.distributed import Client, as_completed\n",
    "from dask_jobqueue import SLURMCluster\n",
    "\n",
    "# Basic imports\n",
    "import os\n",
    "import sys\n",
    "import shutil\n",
    "import numpy as np\n",
    "from matplotlib import pyplot as plt\n",
    "import pandas as pd\n",
    "import time\n",
    "\n",
    "# Import supporting functions\n",
    "from crtoolbox.lib.boundary import *\n",
    "from crtoolbox.lib.display import *\n",
    "from crtoolbox.lib.regression import *\n",
    "\n",
    "# Import bootstrap functions\n",
    "from crtoolbox.bootstrap import *\n",
    "\n",
    "# Import data generation\n",
    "from crtoolbox.tests.generate_2d_data import *"
   ]
  },
  {
   "cell_type": "markdown",
   "metadata": {},
   "source": [
    "## Setup"
   ]
  },
  {
   "cell_type": "code",
   "execution_count": 2,
   "metadata": {},
   "outputs": [],
   "source": [
    "# Set output directory\n",
    "out_dir = '/well/nichols/users/inf852/sup_sim'\n",
    "\n",
    "# If output directory does not exist, create it\n",
    "if not os.path.exists(out_dir):\n",
    "    os.makedirs(out_dir)"
   ]
  },
  {
   "cell_type": "markdown",
   "metadata": {},
   "source": [
    "## Hausdorff Function"
   ]
  },
  {
   "cell_type": "code",
   "execution_count": 3,
   "metadata": {},
   "outputs": [
    {
     "name": "stdout",
     "output_type": "stream",
     "text": [
      "2.23606797749979\n"
     ]
    }
   ],
   "source": [
    "import numpy as np\n",
    "from scipy.spatial.distance import directed_hausdorff\n",
    "\n",
    "def hausdorff(A, B):\n",
    "    \"\"\"\n",
    "    Compute the Hausdorff distance between two binary images.\n",
    "    \n",
    "    Parameters:\n",
    "        - A, B: n-dimensional numpy arrays.\n",
    "    \n",
    "    Returns:\n",
    "        - Hausdorff distance.\n",
    "    \"\"\"\n",
    "    \n",
    "    # Get the coordinates of non-zero pixels\n",
    "    coords_A = np.array(np.where(A)).T\n",
    "    coords_B = np.array(np.where(B)).T\n",
    "    \n",
    "    # If one of the images has no non-zero pixels, the Hausdorff distance is infinite\n",
    "    if coords_A.shape[0] == 0 or coords_B.shape[0] == 0:\n",
    "        return float('inf')\n",
    "\n",
    "    # Hausdorff distance is the maximum of the directed distances\n",
    "    return max(directed_hausdorff(coords_A, coords_B)[0], directed_hausdorff(coords_B, coords_A)[0])\n",
    "\n",
    "# Example\n",
    "image1 = np.array([\n",
    "    [0, 0, 0],\n",
    "    [0, 0, 0],\n",
    "    [1, 0, 0]\n",
    "])\n",
    "\n",
    "image2 = np.array([\n",
    "    [0, 1, 0],\n",
    "    [0, 0, 0],\n",
    "    [1, 0, 0]\n",
    "])\n",
    "\n",
    "print(hausdorff(image1, image2))  # Should print the Hausdorff distance between the two images\n"
   ]
  },
  {
   "cell_type": "markdown",
   "metadata": {},
   "source": [
    "## Ground Truth Analysis"
   ]
  },
  {
   "cell_type": "markdown",
   "metadata": {},
   "source": [
    "Set up ground truth analysis."
   ]
  },
  {
   "cell_type": "code",
   "execution_count": 4,
   "metadata": {},
   "outputs": [],
   "source": [
    "# Ground truth directory\n",
    "gt_dir = os.path.join(out_dir, 'ground_truth')\n",
    "\n",
    "# Threshold c=1% BOLD signal change\n",
    "c = 10\n",
    "\n",
    "# If ground truth directory does not exist, create it\n",
    "if not os.path.exists(gt_dir):\n",
    "    os.makedirs(gt_dir)\n",
    "\n",
    "# Construct the inputs.yaml for the ground truth analysis with the following parameters:\n",
    "inputs = {\n",
    "    \"MAXMEM\": '2**34',\n",
    "    \"M_files\": \"/users/nichols/inf852/Biobank1_Mfiles_2021.txt\",\n",
    "    \"OutputCovB\": 0,\n",
    "    \"X\": \"/users/nichols/inf852/Biobank1_X_2021.csv\",\n",
    "    \"Y_files\": \"/users/nichols/inf852/Biobank1_Yfiles_2021.txt\",\n",
    "    \"analysis_mask\": \"/well/win/software/packages/fsl/5.0.11/data/standard/MNI152_T1_2mm_brain_mask.nii.gz\",\n",
    "    \"contrasts\": [\n",
    "        {\n",
    "            \"c1\": {\n",
    "                \"name\": \"Tcontrast1\",\n",
    "                \"vector\": [1,0,0,0,0,0]\n",
    "            }\n",
    "        }\n",
    "    ],\n",
    "    \"outdir\": gt_dir,\n",
    "    \"sim\": 1,\n",
    "    \"numNodes\": 100,\n",
    "    \"clusterType\": \"SLURM\",\n",
    "}\n",
    "\n",
    "# Write the inputs.yaml file\n",
    "with open(os.path.join(gt_dir, 'inputs.yml'), 'w') as outfile:\n",
    "    yaml.dump(inputs, outfile, default_flow_style=False)\n",
    "\n"
   ]
  },
  {
   "cell_type": "code",
   "execution_count": 5,
   "metadata": {},
   "outputs": [],
   "source": [
    "# # Mask files\n",
    "# M_files = \"/users/nichols/inf852/Biobank1_Mfiles_2021.txt\"\n",
    "\n",
    "# # Construct the M list file by taking the lines corresponding to the selected subject indices\n",
    "# with open(M_files) as f:\n",
    "#     lines = f.readlines()\n",
    "\n",
    "# # Make the files into a list\n",
    "# M_files = []\n",
    "# for i in np.arange(len(lines)):\n",
    "#     M_files.append(lines[i].strip())\n",
    "\n",
    "# # Get number of images\n",
    "# n_subs = len(M_files)\n",
    "\n",
    "# print(n_subs)\n",
    "    \n",
    "# # Loop through images to create analysis mask\n",
    "# for i in range(0, n_subs):\n",
    "    \n",
    "#     print(i)\n",
    "\n",
    "#     # Read in image\n",
    "#     img = read_image(M_files[i])\n",
    "\n",
    "\n",
    "#     # Check if we are on the first image\n",
    "#     if i == 0:\n",
    "\n",
    "#         # Initialize mask\n",
    "#         mask = 1*(img > 0.9)\n",
    "\n",
    "#     # Update mask\n",
    "#     mask = mask*(1*(img > 0.9))\n",
    "    \n",
    "\n",
    "# # Write beta coefficient to file\n",
    "# addBlockToNifti(os.path.join(gt_dir,\"mask.nii\"), \n",
    "#                 mask, np.arange(np.prod(mask.shape)), \n",
    "#                 volInd=0,dim=mask.shape)\n",
    "\n",
    "# display_volume(mask)\n",
    "\n",
    "mask_gt = os.path.join(gt_dir,\"mask.nii\")"
   ]
  },
  {
   "cell_type": "markdown",
   "metadata": {},
   "source": [
    "Run BLM analysis"
   ]
  },
  {
   "cell_type": "code",
   "execution_count": 6,
   "metadata": {},
   "outputs": [
    {
     "name": "stdout",
     "output_type": "stream",
     "text": [
      "5.316734313964844e-05\n"
     ]
    }
   ],
   "source": [
    "t1 = time.time()\n",
    "\n",
    "# Run the ground truth analysis\n",
    "#blm([os.path.join(gt_dir, 'inputs.yml')])\n",
    "\n",
    "# The analysis should now be complete. We can now define the ground truth mu\n",
    "#beta_file = os.path.join(gt_dir, 'blm_vox_beta.nii')\n",
    "\n",
    "# Load the mu file\n",
    "#mu = nib.load(beta_file).get_fdata()\n",
    "\n",
    "# Make sure the mu file is 3D by removing any singleton dimensions\n",
    "#mu = mu[:, :, :, 0]\n",
    "\n",
    "# Create mu file\n",
    "mu_file = os.path.join(out_dir, 'mu.nii')\n",
    "\n",
    "# Sahttp://localhost:8889/notebooks/Suprema_Simulationn_HCP.ipynb#ve the mu file back to blm_vox_beta.nii\n",
    "#nib.save(nib.Nifti1Image(mu, np.eye(4)), mu_file)\n",
    "\n",
    "t2 = time.time()\n",
    "print(t2-t1)"
   ]
  },
  {
   "cell_type": "code",
   "execution_count": null,
   "metadata": {},
   "outputs": [],
   "source": [
    "# Make a view of mu\n",
    "display_volume(mu_file, mode='axial')"
   ]
  },
  {
   "cell_type": "markdown",
   "metadata": {},
   "source": [
    "## Regression Function"
   ]
  },
  {
   "cell_type": "code",
   "execution_count": 7,
   "metadata": {},
   "outputs": [],
   "source": [
    "import os\n",
    "import numpy as np\n",
    "import nibabel as nib\n",
    "from crtoolbox.lib.fileio import read_image\n",
    "from crtoolbox.tests.generate_ni_data import addBlockToNifti\n",
    "\n",
    "\"\"\"\n",
    "Read images from a list of filenames in chunks and perform\n",
    "regression on each chunk. The regression is performed using\n",
    "the following equation:\n",
    "\n",
    "    y = X * beta + epsilon\n",
    "\n",
    "where y is the image, X is the design matrix, beta is the \n",
    "regression coefficients, and epsilon is the error. The\n",
    "regression coefficients are computed using the following\n",
    "equation:\n",
    "\n",
    "    beta = (X'X)^-1 X'y\n",
    "\n",
    "where X' is the transpose of X and ^-1 is the inverse.\n",
    "\n",
    "Parameters:\n",
    "-----------\n",
    "yfiles : list\n",
    "    list of filenames for the images to be regressed\n",
    "X : array\n",
    "    design matrix\n",
    "out_dir : str\n",
    "    directory to save the regression results\n",
    "chunk_size : int\n",
    "    number of images to read in at a time\n",
    "\n",
    "Returns:\n",
    "--------\n",
    "files : list\n",
    "    list of filenames for the regression results. The filenames\n",
    "    are in the order of: beta, sigma, and epsilon.\n",
    "\"\"\"\n",
    "def regression2(yfiles, mfiles, X, out_dir, chunk_size=20):\n",
    "\n",
    "    # Get number of images\n",
    "    n_imgs = len(yfiles)\n",
    "\n",
    "    # Get number of rows in design matrix\n",
    "    n = X.shape[0]\n",
    "\n",
    "    # Check if n_imgs matches number of rows in design matrix\n",
    "    if n_imgs != n:\n",
    "            \n",
    "        # Raise error\n",
    "        raise ValueError(\"Number of images does not match number of rows in design matrix\")\n",
    "\n",
    "    # Get number of columns in design matrix\n",
    "    p = X.shape[1]\n",
    "    \n",
    "    # Read in a single image to get image size\n",
    "    img = read_image(yfiles[0])\n",
    "    \n",
    "    # Get image size\n",
    "    img_size = img.shape\n",
    "\n",
    "    # Get the dimension of the image\n",
    "    D = len(img_size)\n",
    "\n",
    "    # Loop through images to create a running mask\n",
    "    for i in range(0, n_imgs):\n",
    "\n",
    "        # Read in image\n",
    "        img = read_image(mfiles[i])\n",
    "        \n",
    "\n",
    "        # Check if we are on the first image\n",
    "        if i == 0:\n",
    "\n",
    "            # Initialize mask\n",
    "            mask = 1*(img > 0.9)\n",
    "\n",
    "        # Update mask\n",
    "        mask = mask*(1*(img > 0.9))\n",
    "    \n",
    "    # Read in images in chunks\n",
    "    for i in range(0, n_imgs, chunk_size):\n",
    "\n",
    "        # Get end index\n",
    "        end = min(i + chunk_size, n_imgs)\n",
    "\n",
    "        # Get number of images in chunk\n",
    "        n_chunk = end - i\n",
    "\n",
    "        # Initialize arrays\n",
    "        y_chunk = np.zeros(img_size + (n_chunk, 1))\n",
    "        X_chunk = np.zeros(tuple((1 for i in range(D))) + (n_chunk, p))\n",
    "\n",
    "        # Loop through images in chunk        \n",
    "        for j in range(0, n_chunk):\n",
    "\n",
    "            # Read in image\n",
    "            img = read_image(yfiles[i + j])\n",
    "\n",
    "            # Apply mask\n",
    "            img = img*mask\n",
    "\n",
    "            # Add image to array\n",
    "            y_chunk[..., j, 0] = img\n",
    "\n",
    "            # Add design matrix to array\n",
    "            X_chunk[..., j, :] = X[i + j, :]\n",
    "\n",
    "        # Compute X'X for chunk\n",
    "        XtX_chunk = X_chunk.swapaxes(-1,-2) @ X_chunk\n",
    "\n",
    "        # Compute X'y for chunk\n",
    "        Xty_chunk = X_chunk.swapaxes(-1,-2) @ y_chunk\n",
    "\n",
    "        # Compute y'y for chunk\n",
    "        yty_chunk = y_chunk.swapaxes(-1,-2) @ y_chunk\n",
    "\n",
    "        # Add X'X, X'y and y'y for chunk to total\n",
    "        if i == 0:\n",
    "\n",
    "            # Initialize arrays\n",
    "            XtX = np.zeros(XtX_chunk.shape)\n",
    "            Xty = np.zeros(Xty_chunk.shape)\n",
    "            yty = np.zeros(yty_chunk.shape)\n",
    "\n",
    "        # Add to total\n",
    "        XtX = XtX + XtX_chunk\n",
    "        Xty = Xty + Xty_chunk\n",
    "        yty = yty + yty_chunk\n",
    "\n",
    "    # Compute beta\n",
    "    beta = np.linalg.pinv(XtX) @ Xty\n",
    "\n",
    "    # Compute sum of squared errors\n",
    "    ete = yty - beta.swapaxes(-1,-2) @ Xty\n",
    "\n",
    "    # Compute sigma\n",
    "    sigma = np.sqrt(ete / n)\n",
    "\n",
    "    # Empty stores for filenames\n",
    "    beta_files = []\n",
    "    resid_files = []\n",
    "    sigma_file = []\n",
    "\n",
    "    # If the image is 3D then output nifti image\n",
    "    if D == 3:\n",
    "\n",
    "        # Write sigma to file\n",
    "        addBlockToNifti(os.path.join(out_dir,\"sigma.nii\"), sigma,\n",
    "                        np.arange(np.prod(img_size)), volInd=0,dim=img_size)\n",
    "        \n",
    "        # Add filename to list\n",
    "        sigma_file = os.path.join(out_dir,\"sigma.nii\")\n",
    "\n",
    "    # Otherwise output as a numpy array\n",
    "    else:\n",
    "\n",
    "        # Write sigma to file\n",
    "        np.save(os.path.join(out_dir,\"sigma.npy\"), sigma)\n",
    "\n",
    "        # Add filename to list\n",
    "        sigma_file = os.path.join(out_dir,\"sigma.npy\")\n",
    "\n",
    "    # Loop through beta coefficients\n",
    "    for i in range(0, p):\n",
    "\n",
    "        # If the image is 3D then output nifti image\n",
    "        if D == 3:\n",
    "\n",
    "            # Write beta coefficient to file\n",
    "            addBlockToNifti(os.path.join(out_dir,\"betahat\"+str(i)+\".nii\"), \n",
    "                            beta[..., i, 0], np.arange(np.prod(img_size)), \n",
    "                            volInd=0,dim=img_size)\n",
    "            \n",
    "            # Add filenames to list\n",
    "            beta_files.append(os.path.join(out_dir,\"betahat\"+str(i)+\".nii\"))\n",
    "            \n",
    "        # Otherwise output as a numpy array\n",
    "        else:\n",
    "\n",
    "            # Write beta coefficient to file\n",
    "            np.save(os.path.join(out_dir,\"betahat\"+str(i)+\".npy\"), beta[..., i, 0])\n",
    "\n",
    "            # Add filenames to list\n",
    "            beta_files.append(os.path.join(out_dir,\"betahat\"+str(i)+\".npy\"))\n",
    "\n",
    "    # Write beta coefficient to file\n",
    "    addBlockToNifti(os.path.join(out_dir,\"mask.nii\"), \n",
    "                    mask, np.arange(np.prod(img_size)), \n",
    "                    volInd=0,dim=img_size)\n",
    "\n",
    "    # Add filenames to list\n",
    "    mask_file = os.path.join(out_dir,\"mask.nii\")\n",
    "#     # Loop through images creating residuals\n",
    "#     for i in range(0, n_imgs):\n",
    "\n",
    "#         # Read in image\n",
    "#         img = read_image(yfiles[i])\n",
    "\n",
    "#         # Compute residuals\n",
    "#         res = (img - (X[..., i:(i+1), :] @ beta)[..., 0, 0])\n",
    "\n",
    "#         # If the image is 3D then output nifti image\n",
    "#         if D == 3:\n",
    "\n",
    "#             # Write residuals to file\n",
    "#             addBlockToNifti(os.path.join(out_dir,\"res\"+str(i)+\".nii\"), \n",
    "#                             res, np.arange(np.prod(img_size)), \n",
    "#                             volInd=0,dim=img_size)\n",
    "            \n",
    "#             # Add filenames to list\n",
    "#             resid_files.append(os.path.join(out_dir,\"res\"+str(i)+\".nii\"))\n",
    "\n",
    "#         # Otherwise output as a numpy array\n",
    "#         else:\n",
    "\n",
    "#             # Write residuals to file\n",
    "#             np.save(os.path.join(out_dir,\"res\"+str(i)+\".npy\"), res)\n",
    "\n",
    "#             # Add filenames to list\n",
    "#             resid_files.append(os.path.join(out_dir,\"res\"+str(i)+\".npy\"))\n",
    "\n",
    "    # Check if there is only one beta file \n",
    "    if len(beta_files) == 1:\n",
    "\n",
    "        # Change beta_files to a string\n",
    "        beta_files = beta_files[0]\n",
    "        \n",
    "    # Return filenames\n",
    "    return beta_files, sigma_file, mask_file#, resid_files  \n",
    "        \n",
    "    "
   ]
  },
  {
   "cell_type": "markdown",
   "metadata": {},
   "source": [
    "## Set up HCP\n"
   ]
  },
  {
   "cell_type": "code",
   "execution_count": 8,
   "metadata": {},
   "outputs": [],
   "source": [
    "def get_results(Y_files, M_files, X_file, mask_gt, mu_file, c, n_sub, out_dir, sim_ind):\n",
    "    \n",
    "    # Set the output directory for this simulation instance\n",
    "    sim_dir = os.path.join(out_dir, 'sim_{:04d}'.format(sim_ind) + '_n' + str(n_sub))\n",
    "\n",
    "    # If the output directory does not exist, create it\n",
    "    if not os.path.exists(sim_dir): \n",
    "        os.makedirs(sim_dir)\n",
    "    \n",
    "    # Randomly select n_sub subject indices between 0 and 2021\n",
    "    sub_idx = np.random.choice(4922, n_sub, replace=False)\n",
    "    \n",
    "    # Construct the Y list file by taking the lines corresponding to the selected subject indices\n",
    "    with open(Y_files) as f:\n",
    "        lines = f.readlines()\n",
    "    \n",
    "    # Make the files into a list\n",
    "    Y_files = []\n",
    "    for idx in sub_idx:\n",
    "        Y_files.append(lines[idx].strip())\n",
    "    \n",
    "    # Construct the M list file by taking the lines corresponding to the selected subject indices\n",
    "    with open(M_files) as f:\n",
    "        lines = f.readlines()\n",
    "    \n",
    "    # Make the files into a list\n",
    "    M_files = []\n",
    "    for idx in sub_idx:\n",
    "        M_files.append(lines[idx].strip())\n",
    "        \n",
    "    # Construct the X file by taking the lines corresponding to the selected subject indices\n",
    "    X = pd.read_csv(X_file, header=None)\n",
    "    X = X.iloc[sub_idx, :].values\n",
    "    \n",
    "    # Fit the regression model\n",
    "    betahat_files, sigma_file, mask_file = regression2(Y_files, M_files, X, sim_dir)\n",
    "    muhat_file = betahat_files[0]\n",
    "    \n",
    "    # Load in mu file\n",
    "    mu = nib.load(mu_file).get_fdata()\n",
    "\n",
    "    # Load in muhat file\n",
    "    muhat = nib.load(muhat_file).get_fdata().reshape(mu.shape)\n",
    "    \n",
    "    # Compute mask\n",
    "    mask = (muhat!=0) & (mu!=0)\n",
    "    mask_gt = nib.load(mask_gt).get_fdata().reshape(mu.shape)\n",
    "    \n",
    "    # Apply mask to both muhat and mu\n",
    "    mu = mu*mask*mask_gt\n",
    "    muhat = muhat*mask*mask_gt\n",
    "\n",
    "    # Work out the suprema of their absolute difference\n",
    "    sup_diff = np.max(np.abs(muhat - mu))\n",
    "\n",
    "    # Work out Ac\n",
    "    Ac = mu > c\n",
    "\n",
    "    # Work out AcHat\n",
    "    AcHat = muhat > c\n",
    "\n",
    "    # Get boundary map for Ac\n",
    "    Ac_bdry = get_bdry_map_combined(Ac,mask=mask)\n",
    "\n",
    "    # Get boundary map for AcHat\n",
    "    AcHat_bdry = get_bdry_map_combined(AcHat,mask=mask)\n",
    "\n",
    "    # Work out Hausdorff distance between muhat and mu\n",
    "    haus_dist = hausdorff(Ac_bdry, AcHat_bdry)\n",
    "\n",
    "    # Add results to results csv in out_dir\n",
    "    results_file = os.path.join(out_dir, 'new_results_' + 'n' + str(n_sub) + '.csv')\n",
    "\n",
    "    # File lock\n",
    "    lock_file = results_file + '.lock'\n",
    "\n",
    "    # Wait until lock file is removed\n",
    "    while os.path.exists(lock_file):\n",
    "        pass\n",
    "\n",
    "    # Create lock file\n",
    "    with open(lock_file, 'w') as f:\n",
    "        pass\n",
    "\n",
    "    # If results file does not exist, create it\n",
    "    if not os.path.exists(results_file):\n",
    "        with open(results_file, 'w') as f:\n",
    "            f.write('sup_diff,haus_dist\\n')\n",
    "\n",
    "    # Append results to results file\n",
    "    with open(results_file, 'a') as f:\n",
    "        f.write('{},{}\\n'.format(sup_diff, haus_dist))\n",
    "\n",
    "    # Remove lock file\n",
    "    os.remove(lock_file)\n",
    "    \n",
    "    # Remove sim directory\n",
    "    shutil.rmtree(sim_dir)\n",
    "    \n",
    "X_file = \"/users/nichols/inf852/Biobank1_X_2021.csv\"\n",
    "Y_files = \"/users/nichols/inf852/Biobank1_Yfiles_2021.txt\"\n",
    "M_files = \"/users/nichols/inf852/Biobank1_Mfiles_2021.txt\"\n",
    "sim_ind = 39\n",
    "n_sub = 400\n",
    "c = 10\n",
    "\n",
    "t1 = time.time()\n",
    "get_results(Y_files, M_files, X_file, mask_gt, mu_file, c, n_sub, out_dir, sim_ind)\n",
    "t2 = time.time()"
   ]
  },
  {
   "cell_type": "code",
   "execution_count": 9,
   "metadata": {},
   "outputs": [
    {
     "name": "stdout",
     "output_type": "stream",
     "text": [
      "60.23332738876343\n"
     ]
    }
   ],
   "source": [
    "print(t2-t1)"
   ]
  },
  {
   "cell_type": "code",
   "execution_count": 10,
   "metadata": {},
   "outputs": [
    {
     "ename": "FileNotFoundError",
     "evalue": "No such file or no access: '/well/nichols/users/inf852/sup_sim/sim_0039_n400/mask.nii'",
     "output_type": "error",
     "traceback": [
      "\u001b[0;31m---------------------------------------------------------------------------\u001b[0m",
      "\u001b[0;31mFileNotFoundError\u001b[0m                         Traceback (most recent call last)",
      "File \u001b[0;32m~/miniconda3/lib/python3.9/site-packages/nibabel/loadsave.py:90\u001b[0m, in \u001b[0;36mload\u001b[0;34m(filename, **kwargs)\u001b[0m\n\u001b[1;32m     89\u001b[0m \u001b[38;5;28;01mtry\u001b[39;00m:\n\u001b[0;32m---> 90\u001b[0m     stat_result \u001b[38;5;241m=\u001b[39m \u001b[43mos\u001b[49m\u001b[38;5;241;43m.\u001b[39;49m\u001b[43mstat\u001b[49m\u001b[43m(\u001b[49m\u001b[43mfilename\u001b[49m\u001b[43m)\u001b[49m\n\u001b[1;32m     91\u001b[0m \u001b[38;5;28;01mexcept\u001b[39;00m \u001b[38;5;167;01mOSError\u001b[39;00m:\n",
      "\u001b[0;31mFileNotFoundError\u001b[0m: [Errno 2] No such file or directory: '/well/nichols/users/inf852/sup_sim/sim_0039_n400/mask.nii'",
      "\nDuring handling of the above exception, another exception occurred:\n",
      "\u001b[0;31mFileNotFoundError\u001b[0m                         Traceback (most recent call last)",
      "Cell \u001b[0;32mIn[10], line 2\u001b[0m\n\u001b[1;32m      1\u001b[0m mask_file \u001b[38;5;241m=\u001b[39m \u001b[38;5;124m\"\u001b[39m\u001b[38;5;124m/well/nichols/users/inf852/sup_sim/sim_0039_n400/mask.nii\u001b[39m\u001b[38;5;124m\"\u001b[39m\n\u001b[0;32m----> 2\u001b[0m mask \u001b[38;5;241m=\u001b[39m \u001b[43mnib\u001b[49m\u001b[38;5;241;43m.\u001b[39;49m\u001b[43mload\u001b[49m\u001b[43m(\u001b[49m\u001b[43mmask_file\u001b[49m\u001b[43m)\u001b[49m\u001b[38;5;241m.\u001b[39mget_fdata()\n\u001b[1;32m      4\u001b[0m display_volume(mask)\n",
      "File \u001b[0;32m~/miniconda3/lib/python3.9/site-packages/nibabel/loadsave.py:92\u001b[0m, in \u001b[0;36mload\u001b[0;34m(filename, **kwargs)\u001b[0m\n\u001b[1;32m     90\u001b[0m     stat_result \u001b[38;5;241m=\u001b[39m os\u001b[38;5;241m.\u001b[39mstat(filename)\n\u001b[1;32m     91\u001b[0m \u001b[38;5;28;01mexcept\u001b[39;00m \u001b[38;5;167;01mOSError\u001b[39;00m:\n\u001b[0;32m---> 92\u001b[0m     \u001b[38;5;28;01mraise\u001b[39;00m \u001b[38;5;167;01mFileNotFoundError\u001b[39;00m(\u001b[38;5;124mf\u001b[39m\u001b[38;5;124m\"\u001b[39m\u001b[38;5;124mNo such file or no access: \u001b[39m\u001b[38;5;124m'\u001b[39m\u001b[38;5;132;01m{\u001b[39;00mfilename\u001b[38;5;132;01m}\u001b[39;00m\u001b[38;5;124m'\u001b[39m\u001b[38;5;124m\"\u001b[39m)\n\u001b[1;32m     93\u001b[0m \u001b[38;5;28;01mif\u001b[39;00m stat_result\u001b[38;5;241m.\u001b[39mst_size \u001b[38;5;241m<\u001b[39m\u001b[38;5;241m=\u001b[39m \u001b[38;5;241m0\u001b[39m:\n\u001b[1;32m     94\u001b[0m     \u001b[38;5;28;01mraise\u001b[39;00m ImageFileError(\u001b[38;5;124mf\u001b[39m\u001b[38;5;124m\"\u001b[39m\u001b[38;5;124mEmpty file: \u001b[39m\u001b[38;5;124m'\u001b[39m\u001b[38;5;132;01m{\u001b[39;00mfilename\u001b[38;5;132;01m}\u001b[39;00m\u001b[38;5;124m'\u001b[39m\u001b[38;5;124m\"\u001b[39m)\n",
      "\u001b[0;31mFileNotFoundError\u001b[0m: No such file or no access: '/well/nichols/users/inf852/sup_sim/sim_0039_n400/mask.nii'"
     ]
    }
   ],
   "source": [
    "mask_file = \"/well/nichols/users/inf852/sup_sim/sim_0039_n400/mask.nii\"\n",
    "mask = nib.load(mask_file).get_fdata()\n",
    "\n",
    "display_volume(mask)"
   ]
  },
  {
   "cell_type": "code",
   "execution_count": null,
   "metadata": {},
   "outputs": [],
   "source": [
    "muhat_file = \"/well/nichols/users/inf852/sup_sim/sim_0039_n400/betahat0.nii\"\n",
    "muhat = nib.load(muhat_file).get_fdata()\n",
    "\n",
    "display_volume(muhat> 100)"
   ]
  },
  {
   "cell_type": "code",
   "execution_count": null,
   "metadata": {},
   "outputs": [],
   "source": [
    "mu_file = \"/well/nichols/users/inf852/sup_sim/mu.nii\"\n",
    "mu = nib.load(mu_file).get_fdata()\n",
    "\n",
    "display_volume(mu > 100)"
   ]
  },
  {
   "cell_type": "code",
   "execution_count": null,
   "metadata": {},
   "outputs": [],
   "source": [
    "Ac = mu > c\n",
    "AcHat = muhat.reshape(mu.shape) > c\n",
    "\n",
    "display_volume(1*AcHat-1*Ac)"
   ]
  },
  {
   "cell_type": "markdown",
   "metadata": {},
   "source": [
    "## Cluster Submission\n"
   ]
  },
  {
   "cell_type": "markdown",
   "metadata": {},
   "source": [
    "Simulation variables for running on the cluster."
   ]
  },
  {
   "cell_type": "code",
   "execution_count": 74,
   "metadata": {},
   "outputs": [
    {
     "name": "stdout",
     "output_type": "stream",
     "text": [
      "[690 700 710 720 730 740 750]\n"
     ]
    }
   ],
   "source": [
    "# Setup for running on cluster\n",
    "n_sim = 1000\n",
    "\n",
    "# Number of nodes\n",
    "n_node = 100\n",
    "\n",
    "# Number of sims per node\n",
    "n_sim_per_node = n_sim//n_node\n",
    "\n",
    "# Range of subject values\n",
    "n_subs = np.arange(690,760,10)\n",
    "\n",
    "print(n_subs)"
   ]
  },
  {
   "cell_type": "code",
   "execution_count": 75,
   "metadata": {},
   "outputs": [
    {
     "name": "stderr",
     "output_type": "stream",
     "text": [
      "/users/nichols/inf852/miniconda3/lib/python3.9/site-packages/distributed/node.py:182: UserWarning: Port 46405 is already in use.\n",
      "Perhaps you already have a cluster running?\n",
      "Hosting the HTTP server on port 43057 instead\n",
      "  warnings.warn(\n"
     ]
    }
   ],
   "source": [
    "# Load the SLURM Cluster\n",
    "cluster = SLURMCluster()\n",
    "\n",
    "# --------------------------------------------------------------------------------\n",
    "# Connect to client\n",
    "# --------------------------------------------------------------------------------\n",
    "\n",
    "# Connect to cluster\n",
    "client = Client(cluster)   \n",
    "\n",
    "\n",
    "# Ask for 100 nodes for computation\n",
    "cluster.scale(n_node)"
   ]
  },
  {
   "cell_type": "code",
   "execution_count": 76,
   "metadata": {},
   "outputs": [
    {
     "ename": "FileNotFoundError",
     "evalue": "[Errno 2] No such file or directory: '/well/nichols/users/inf852/sup_sim/new_results_n690.csv.lock'",
     "output_type": "error",
     "traceback": [
      "\u001b[0;31m---------------------------------------------------------------------------\u001b[0m",
      "\u001b[0;31mFileNotFoundError\u001b[0m                         Traceback (most recent call last)",
      "Cell \u001b[0;32mIn[76], line 21\u001b[0m\n\u001b[1;32m     19\u001b[0m \u001b[38;5;66;03m# Wait for results\u001b[39;00m\n\u001b[1;32m     20\u001b[0m \u001b[38;5;28;01mfor\u001b[39;00m i \u001b[38;5;129;01min\u001b[39;00m completed:\n\u001b[0;32m---> 21\u001b[0m     \u001b[43mi\u001b[49m\u001b[38;5;241;43m.\u001b[39;49m\u001b[43mresult\u001b[49m\u001b[43m(\u001b[49m\u001b[43m)\u001b[49m\n\u001b[1;32m     23\u001b[0m \u001b[38;5;66;03m# Delete the future objects (NOTE: see above comment in setup section).\u001b[39;00m\n\u001b[1;32m     24\u001b[0m \u001b[38;5;28;01mdel\u001b[39;00m i, completed, futures, future_b\n",
      "File \u001b[0;32m~/miniconda3/lib/python3.9/site-packages/distributed/client.py:314\u001b[0m, in \u001b[0;36mFuture.result\u001b[0;34m(self, timeout)\u001b[0m\n\u001b[1;32m    312\u001b[0m \u001b[38;5;28;01mif\u001b[39;00m \u001b[38;5;28mself\u001b[39m\u001b[38;5;241m.\u001b[39mstatus \u001b[38;5;241m==\u001b[39m \u001b[38;5;124m\"\u001b[39m\u001b[38;5;124merror\u001b[39m\u001b[38;5;124m\"\u001b[39m:\n\u001b[1;32m    313\u001b[0m     typ, exc, tb \u001b[38;5;241m=\u001b[39m result\n\u001b[0;32m--> 314\u001b[0m     \u001b[38;5;28;01mraise\u001b[39;00m exc\u001b[38;5;241m.\u001b[39mwith_traceback(tb)\n\u001b[1;32m    315\u001b[0m \u001b[38;5;28;01melif\u001b[39;00m \u001b[38;5;28mself\u001b[39m\u001b[38;5;241m.\u001b[39mstatus \u001b[38;5;241m==\u001b[39m \u001b[38;5;124m\"\u001b[39m\u001b[38;5;124mcancelled\u001b[39m\u001b[38;5;124m\"\u001b[39m:\n\u001b[1;32m    316\u001b[0m     \u001b[38;5;28;01mraise\u001b[39;00m result\n",
      "Cell \u001b[0;32mIn[8], line 95\u001b[0m, in \u001b[0;36mget_results\u001b[0;34m()\u001b[0m\n\u001b[1;32m     92\u001b[0m     f\u001b[38;5;241m.\u001b[39mwrite(\u001b[38;5;124m'\u001b[39m\u001b[38;5;132;01m{}\u001b[39;00m\u001b[38;5;124m,\u001b[39m\u001b[38;5;132;01m{}\u001b[39;00m\u001b[38;5;130;01m\\n\u001b[39;00m\u001b[38;5;124m'\u001b[39m\u001b[38;5;241m.\u001b[39mformat(sup_diff, haus_dist))\n\u001b[1;32m     94\u001b[0m \u001b[38;5;66;03m# Remove lock file\u001b[39;00m\n\u001b[0;32m---> 95\u001b[0m os\u001b[38;5;241m.\u001b[39mremove(lock_file)\n\u001b[1;32m     97\u001b[0m \u001b[38;5;66;03m# Remove sim directory\u001b[39;00m\n\u001b[1;32m     98\u001b[0m shutil\u001b[38;5;241m.\u001b[39mrmtree(sim_dir)\n",
      "\u001b[0;31mFileNotFoundError\u001b[0m: [Errno 2] No such file or directory: '/well/nichols/users/inf852/sup_sim/new_results_n690.csv.lock'"
     ]
    }
   ],
   "source": [
    "# Empty futures list\n",
    "futures = []\n",
    "\n",
    "# Loop through subjects\n",
    "for n_sub in n_subs:\n",
    "\n",
    "    # Submit jobs\n",
    "    for sim_ind in np.arange(n_sim):\n",
    "\n",
    "        # Run the jobNum^{th} job.run_simulation(n_sim, n, out_dir, 5000)\n",
    "        future_b = client.submit(get_results, Y_files, M_files, X_file, mask_gt, mu_file, c, n_sub, out_dir, sim_ind, pure=False)\n",
    "\n",
    "        # Append to list \n",
    "        futures.append(future_b)\n",
    "\n",
    "# Completed jobs\n",
    "completed = as_completed(futures)\n",
    "\n",
    "# Wait for results\n",
    "for i in completed:\n",
    "    i.result()\n",
    "\n",
    "# Delete the future objects (NOTE: see above comment in setup section).\n",
    "del i, completed, futures, future_b"
   ]
  },
  {
   "cell_type": "code",
   "execution_count": 73,
   "metadata": {},
   "outputs": [],
   "source": [
    "# Close the client\n",
    "client.close()\n",
    "client.shutdown()"
   ]
  },
  {
   "cell_type": "code",
   "execution_count": null,
   "metadata": {},
   "outputs": [],
   "source": [
    "!pip show crtoolbox | grep Location\n"
   ]
  },
  {
   "cell_type": "code",
   "execution_count": null,
   "metadata": {},
   "outputs": [],
   "source": [
    "import crtoolbox\n",
    "print(crtoolbox.__path__)"
   ]
  },
  {
   "cell_type": "code",
   "execution_count": 62,
   "metadata": {},
   "outputs": [
    {
     "data": {
      "text/plain": [
       "[<matplotlib.lines.Line2D at 0x7f6a0dfd80d0>]"
      ]
     },
     "execution_count": 62,
     "metadata": {},
     "output_type": "execute_result"
    },
    {
     "data": {
      "image/png": "[encoded data removed]",
      "text/plain": [
       "<Figure size 640x480 with 1 Axes>"
      ]
     },
     "metadata": {},
     "output_type": "display_data"
    }
   ],
   "source": [
    "import glob\n",
    "\n",
    "# Get a list of files of the form new_results_n*.csv\n",
    "results_files = glob.glob(os.path.join(out_dir, 'new_results_n*.csv'))\n",
    "\n",
    "# For each file, get the number of subjects represented by the filename\n",
    "n_sub_list = [int(f.split('_n')[1].strip('.csv')) for f in results_files]\n",
    "\n",
    "# Loop through sample sizes and compute the mean of the suprema and Hausdorff distances\n",
    "sup_diff_mean = []\n",
    "haus_dist_mean = []\n",
    "\n",
    "for n_sub in n_sub_list:\n",
    "\n",
    "    # Get the results file for this sample size\n",
    "    results_file = os.path.join(out_dir, 'new_results_n' + str(n_sub) + '.csv')\n",
    "\n",
    "    # Read in the results file\n",
    "    results = pd.read_csv(results_file)\n",
    "\n",
    "    # Compute the mean of the suprema and Hausdorff distances\n",
    "    sup_diff_mean.append(results['sup_diff'].mean())\n",
    "    haus_dist_mean.append(results['haus_dist'].mean())\n",
    "\n",
    "# Sort the sample sizes and mean suprema and Hausdorff distances\n",
    "n_sub_list, sup_diff_mean, haus_dist_mean = zip(*sorted(zip(n_sub_list, sup_diff_mean, haus_dist_mean)))\n",
    "\n",
    "# Plot the mean suprema and Hausdorff distances against sample size\n",
    "#plt.plot(n_sub_list, sup_diff_mean, label='Suprema')\n",
    "plt.plot(n_sub_list, haus_dist_mean, label='Hausdorff')\n"
   ]
  },
  {
   "cell_type": "code",
   "execution_count": 72,
   "metadata": {},
   "outputs": [
    {
     "data": {
      "text/plain": [
       "[<matplotlib.lines.Line2D at 0x7f6a4a19b310>]"
      ]
     },
     "execution_count": 72,
     "metadata": {},
     "output_type": "execute_result"
    },
    {
     "data": {
      "image/png": "[encoded data removed]",
      "text/plain": [
       "<Figure size 640x480 with 1 Axes>"
      ]
     },
     "metadata": {},
     "output_type": "display_data"
    }
   ],
   "source": [
    "\n",
    "# Construct design matrix containing an intercept and the suprema\n",
    "X = np.vstack((np.ones(len(n_sub_list)), np.array(sup_diff_mean))).T\n",
    "\n",
    "haus_dist_mean = np.array(haus_dist_mean)\n",
    "haus_dist_mean = haus_dist_mean.reshape((haus_dist_mean.shape[0],1))\n",
    "\n",
    "# Fit linear model\n",
    "beta = np.linalg.pinv(X[3:,:].T @ X[3:,:]) @ X[3:,:].T @ np.array(haus_dist_mean)[3:,:]\n",
    "\n",
    "# Make predicted line for hausdorff distance\n",
    "haus_dist_pred = X @ beta\n",
    "\n",
    "# Plot the mean suprema and Hausdorff distances against sample size\n",
    "plt.plot(n_sub_list[3:], haus_dist_pred[3:], label='Predicted')\n",
    "plt.plot(n_sub_list[3:], haus_dist_mean[3:], label='Hausdorff')"
   ]
  },
  {
   "cell_type": "code",
   "execution_count": 52,
   "metadata": {},
   "outputs": [
    {
     "name": "stdout",
     "output_type": "stream",
     "text": [
      "557.0336623233065\n"
     ]
    }
   ],
   "source": [
    "print(1/beta[1,0])"
   ]
  },
  {
   "cell_type": "code",
   "execution_count": 30,
   "metadata": {},
   "outputs": [
    {
     "data": {
      "text/plain": [
       "230"
      ]
     },
     "execution_count": 30,
     "metadata": {},
     "output_type": "execute_result"
    }
   ],
   "source": [
    "int(results_files[0].split('_n')[1].strip('.csv'))"
   ]
  },
  {
   "cell_type": "code",
   "execution_count": null,
   "metadata": {},
   "outputs": [],
   "source": []
  }
 ],
 "metadata": {
  "kernelspec": {
   "display_name": "Python 3 (ipykernel)",
   "language": "python",
   "name": "python3"
  },
  "language_info": {
   "codemirror_mode": {
    "name": "ipython",
    "version": 3
   },
   "file_extension": ".py",
   "mimetype": "text/x-python",
   "name": "python",
   "nbconvert_exporter": "python",
   "pygments_lexer": "ipython3",
   "version": "3.9.7"
  }
 },
 "nbformat": 4,
 "nbformat_minor": 2
}
