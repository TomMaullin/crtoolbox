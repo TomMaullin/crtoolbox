{
 "cells": [
  {
   "attachments": {},
   "cell_type": "markdown",
   "metadata": {},
   "source": [
    "# Test Notebook for Confidence Regions Toolbox"
   ]
  },
  {
   "attachments": {},
   "cell_type": "markdown",
   "metadata": {},
   "source": [
    "## Import Packages"
   ]
  },
  {
   "cell_type": "code",
   "execution_count": null,
   "metadata": {},
   "outputs": [],
   "source": [
    "%pip install numpy\n",
    "%pip install pandas\n",
    "%pip install matplotlib\n",
    "%pip install nilearn\n",
    "%pip install nibabel\n",
    "%pip install dask\n",
    "%pip install pyyaml"
   ]
  },
  {
   "cell_type": "code",
   "execution_count": 1,
   "metadata": {},
   "outputs": [],
   "source": [
    "# Basic imports\n",
    "import numpy\n",
    "import yaml\n",
    "import matplotlib.pyplot as plt\n",
    "\n",
    "# Imports from Confidence Regions Toolbox\n",
    "from generate import generate_CRs\n",
    "from coverage import check_violations\n",
    "\n",
    "# Import supporting functions\n",
    "from lib.set_theory import *\n",
    "from lib.boundary import *\n",
    "from lib.regression import *\n",
    "\n",
    "# Import data generation\n",
    "from tests.generate_2d_data import *\n",
    "from tests.generate_ni_data import *\n"
   ]
  },
  {
   "attachments": {},
   "cell_type": "markdown",
   "metadata": {},
   "source": [
    "## Data Generation"
   ]
  },
  {
   "attachments": {},
   "cell_type": "markdown",
   "metadata": {},
   "source": [
    "Initial parameters."
   ]
  },
  {
   "cell_type": "code",
   "execution_count": 2,
   "metadata": {},
   "outputs": [],
   "source": [
    "# Number of fields m\n",
    "m = 3\n",
    "\n",
    "# Get number of subjects\n",
    "nSub = 80\n",
    "\n",
    "# Get number of simulation realizations\n",
    "nReals = 100\n",
    "\n",
    "# Get number of bootstraps\n",
    "nBoot = 5000\n",
    "\n",
    "# Get Threshold\n",
    "c = 2\n",
    "\n",
    "# Get p values\n",
    "p = np.linspace(0,1,21)\n",
    "\n",
    "# Get the number of p-values we're looking at\n",
    "nPvals = len(p)\n",
    "\n",
    "# Get Tau\n",
    "tau = 1/np.sqrt(nSub)\n",
    "\n",
    "# Dimensions of simulated data\n",
    "data_dim = np.array([nSub, 100,100])"
   ]
  },
  {
   "attachments": {},
   "cell_type": "markdown",
   "metadata": {},
   "source": [
    "Create some circular signals."
   ]
  },
  {
   "cell_type": "code",
   "execution_count": null,
   "metadata": {},
   "outputs": [],
   "source": [
    "# ---------------------------------------------------------------\n",
    "# Mus\n",
    "# ---------------------------------------------------------------\n",
    "# Create empty specifications\n",
    "mu_specs = {}\n",
    "\n",
    "# Loop through mus, adding each field in turn\n",
    "for i in np.arange(m):\n",
    "\n",
    "    # New empty dict\n",
    "    mu_specs['mu'+str(i+1)]={}\n",
    "\n",
    "    # Mu type\n",
    "    mu_specs['mu'+str(i+1)]['type'] = 'circle2D' \n",
    "\n",
    "    # Mu FWHM\n",
    "    mu_specs['mu'+str(i+1)]['fwhm'] = np.array([5,5])\n",
    "\n",
    "    # Mu r\n",
    "    mu_specs['mu'+str(i+1)]['r'] = 40\n",
    "\n",
    "    # Mu magnitude\n",
    "    mu_specs['mu'+str(i+1)]['mag'] = 3\n",
    "\n",
    "    # Get some evenly spaced center points\n",
    "    centers = circle_points(np.array([25]),np.array([m]))\n",
    "\n",
    "    # Mu center\n",
    "    mu_specs['mu'+str(i+1)]['center'] = centers[i,:].astype(np.int)\n",
    "\n",
    "# ---------------------------------------------------------------\n",
    "# Epsilons\n",
    "# ---------------------------------------------------------------\n",
    "# Create empty specifications\n",
    "noise_specs = {}\n",
    "\n",
    "# Loop through noises, adding each field in turn\n",
    "for i in np.arange(m):\n",
    "\n",
    "    # New empty dict\n",
    "    noise_specs['noise'+str(i+1)]={}\n",
    "\n",
    "    # Add FWHM\n",
    "    noise_specs['noise'+str(i+1)]['FWHM'] = np.array([0, 3, 3])\n",
    "\n",
    "    # Add type\n",
    "    noise_specs['noise'+str(i+1)]['type'] = 'homogen'"
   ]
  },
  {
   "attachments": {},
   "cell_type": "markdown",
   "metadata": {},
   "source": [
    "Generate the data."
   ]
  },
  {
   "cell_type": "code",
   "execution_count": null,
   "metadata": {},
   "outputs": [],
   "source": [
    "for i in np.arange(m):\n",
    "\n",
    "    # ----------------------------------------------------------------\n",
    "    # Data generation\n",
    "    # ----------------------------------------------------------------\n",
    "\n",
    "    # Obtain noise\n",
    "    noise = get_noise(noise_specs['noise'+str(i+1)], data_dim)\n",
    "\n",
    "    # Obtain mu\n",
    "    mu = get_mu(mu_specs['mu'+str(i+1)], data_dim)\n",
    "\n",
    "    # Create the data\n",
    "    data = mu + noise\n",
    "\n",
    "    # Save mus\n",
    "    if i == 0:\n",
    "        mus = np.array(mu)\n",
    "    else:\n",
    "        mus = np.concatenate((mus,mu),axis=0)\n",
    "\n",
    "    # Combine data\n",
    "    if i == 0:\n",
    "        datas = np.array(data.reshape(1,*(data.shape)))\n",
    "    else:\n",
    "        datas = np.concatenate((datas,data.reshape(1,*(data.shape))),axis=0)"
   ]
  },
  {
   "attachments": {},
   "cell_type": "markdown",
   "metadata": {},
   "source": [
    "## Make Some Plots"
   ]
  },
  {
   "cell_type": "code",
   "execution_count": null,
   "metadata": {},
   "outputs": [],
   "source": [
    "# Data for the \"5th\" subject\n",
    "plt.imshow(np.mean(datas,axis=1)[2,:,:])\n",
    "plt.colorbar()"
   ]
  },
  {
   "attachments": {},
   "cell_type": "markdown",
   "metadata": {},
   "source": [
    "## Generate Confidence Regions"
   ]
  },
  {
   "cell_type": "code",
   "execution_count": null,
   "metadata": {},
   "outputs": [],
   "source": [
    "# Output directory\n",
    "out_dir = '/home/tommaullin/Documents'\n",
    "\n",
    "# Generate Confidence Regions\n",
    "FcHat_minus, FcHat_plus, FcHat, a = generate_CRs(datas, c, p, out_dir)"
   ]
  },
  {
   "cell_type": "code",
   "execution_count": null,
   "metadata": {},
   "outputs": [],
   "source": [
    "i = 20\n",
    "\n",
    "print(a[i],p[i])\n",
    "plt.imshow(1*FcHat_plus[i,:,:]+1*FcHat+1*FcHat_minus[i,:,:])\n",
    "plt.colorbar()\n"
   ]
  },
  {
   "cell_type": "code",
   "execution_count": null,
   "metadata": {},
   "outputs": [],
   "source": [
    "print(a[i])\n",
    "plt.imshow(1*FcHat_plus[i,:,:]-1*FcHat_minus[i,:,:])\n",
    "plt.colorbar()"
   ]
  },
  {
   "attachments": {},
   "cell_type": "markdown",
   "metadata": {},
   "source": [
    "## Assess Coverage"
   ]
  },
  {
   "cell_type": "code",
   "execution_count": null,
   "metadata": {},
   "outputs": [],
   "source": [
    "# Get Fc\n",
    "Fc = mu > c\n"
   ]
  },
  {
   "cell_type": "code",
   "execution_count": null,
   "metadata": {},
   "outputs": [],
   "source": [
    "# Get the results\n",
    "results = check_violations(FcHat_plus, FcHat_minus, datas, mus, c, tau, a)"
   ]
  },
  {
   "cell_type": "code",
   "execution_count": null,
   "metadata": {},
   "outputs": [],
   "source": [
    "results[1]"
   ]
  },
  {
   "attachments": {},
   "cell_type": "markdown",
   "metadata": {},
   "source": [
    "## Assess Coverage over Repeated Runs"
   ]
  },
  {
   "cell_type": "code",
   "execution_count": 1,
   "metadata": {},
   "outputs": [
    {
     "ename": "NameError",
     "evalue": "name 'np' is not defined",
     "output_type": "error",
     "traceback": [
      "\u001b[1;31m---------------------------------------------------------------------------\u001b[0m",
      "\u001b[1;31mNameError\u001b[0m                                 Traceback (most recent call last)",
      "\u001b[1;32m~\\AppData\\Local\\Temp\\ipykernel_25240\\1138776347.py\u001b[0m in \u001b[0;36m<module>\u001b[1;34m\u001b[0m\n\u001b[0;32m      5\u001b[0m \u001b[1;33m\u001b[0m\u001b[0m\n\u001b[0;32m      6\u001b[0m \u001b[1;31m# Loop through the repetitions\u001b[0m\u001b[1;33m\u001b[0m\u001b[1;33m\u001b[0m\u001b[1;33m\u001b[0m\u001b[0m\n\u001b[1;32m----> 7\u001b[1;33m \u001b[1;32mfor\u001b[0m \u001b[0mj\u001b[0m \u001b[1;32min\u001b[0m \u001b[0mnp\u001b[0m\u001b[1;33m.\u001b[0m\u001b[0marange\u001b[0m\u001b[1;33m(\u001b[0m\u001b[0mnReps\u001b[0m\u001b[1;33m)\u001b[0m\u001b[1;33m:\u001b[0m\u001b[1;33m\u001b[0m\u001b[1;33m\u001b[0m\u001b[0m\n\u001b[0m\u001b[0;32m      8\u001b[0m     \u001b[0mprint\u001b[0m\u001b[1;33m(\u001b[0m\u001b[0mj\u001b[0m\u001b[1;33m)\u001b[0m\u001b[1;33m\u001b[0m\u001b[1;33m\u001b[0m\u001b[0m\n\u001b[0;32m      9\u001b[0m \u001b[1;33m\u001b[0m\u001b[0m\n",
      "\u001b[1;31mNameError\u001b[0m: name 'np' is not defined"
     ]
    }
   ],
   "source": [
    "import time\n",
    "\n",
    "# Set the number of repetitions\n",
    "nReps = 1000\n",
    "\n",
    "# Loop through the repetitions\n",
    "for j in np.arange(nReps):\n",
    "    print(j)\n",
    "    \n",
    "    # Time data generation\n",
    "    start = time.time()\n",
    "\n",
    "    for i in np.arange(m):\n",
    "        # Obtain noise\n",
    "        noise = get_noise(noise_specs['noise'+str(i+1)], data_dim)\n",
    "\n",
    "        # Obtain mu\n",
    "        mu = get_mu(mu_specs['mu'+str(i+1)], data_dim)\n",
    "\n",
    "        # Create the data\n",
    "        data = mu + noise\n",
    "\n",
    "        # Save mus\n",
    "        if i == 0:\n",
    "            mus = np.array(mu)\n",
    "        else:\n",
    "            mus = np.concatenate((mus,mu),axis=0)\n",
    "\n",
    "        # Combine data\n",
    "        if i == 0:\n",
    "            datas = np.array(data.reshape(1,*(data.shape)))\n",
    "        else:\n",
    "            datas = np.concatenate((datas,data.reshape(1,*(data.shape))),axis=0)\n",
    "    \n",
    "    # Time data generation\n",
    "    end = time.time()\n",
    "    #print(end - start)\n",
    "\n",
    "    # Time confidence region generation\n",
    "    start = time.time()\n",
    "\n",
    "    # Generate Confidence Regions\n",
    "    FcHat_minus, FcHat_plus, FcHat, a = generate_CRs(datas, c, p, out_dir)\n",
    "\n",
    "    # Time confidence region generation\n",
    "    end = time.time()\n",
    "    #print(end - start)\n",
    "\n",
    "    # Time violation checking\n",
    "    start = time.time()\n",
    "\n",
    "    # Get the results\n",
    "    results = check_violations(FcHat_plus, FcHat_minus, datas, mus, c, tau, a)\n",
    "\n",
    "    # Time violation checking\n",
    "    end = time.time()\n",
    "    #print(end - start)\n",
    "\n",
    "    #print(results)\n",
    "    # Average the results\n",
    "    if j == 0:\n",
    "        avg_results = np.array(results[0])\n",
    "    else:\n",
    "        # Concatenate the results\n",
    "        concat_results = np.concatenate((avg_results.reshape(1,np.prod(avg_results.shape)),\n",
    "                                        results[0].reshape(1,np.prod(avg_results.shape))),axis=0)\n",
    "        # Avergae the results\n",
    "        avg_results = np.mean(concat_results,axis=0)\n"
   ]
  },
  {
   "cell_type": "code",
   "execution_count": null,
   "metadata": {},
   "outputs": [],
   "source": [
    "# Plot average results against p\n",
    "plt.plot(p,avg_results)\n",
    "plt.xlabel('p')\n",
    "plt.ylabel('Average number of violations')\n",
    "plt.title('Average number of violations against p')\n",
    "plt.show()"
   ]
  },
  {
   "attachments": {},
   "cell_type": "markdown",
   "metadata": {},
   "source": [
    "### NeuroImaging Example"
   ]
  },
  {
   "attachments": {},
   "cell_type": "markdown",
   "metadata": {},
   "source": [
    "First, we generate some test data."
   ]
  },
  {
   "cell_type": "code",
   "execution_count": 2,
   "metadata": {},
   "outputs": [
    {
     "name": "stdout",
     "output_type": "stream",
     "text": [
      "beta shape (reg):  (120, 120, 120, 3, 1)\n",
      "Xbeta shape (reg):  (120, 120, 120, 30, 1)\n"
     ]
    }
   ],
   "source": [
    "# Parameters for data generation\n",
    "n = 30\n",
    "p = 3\n",
    "out_dir = \"C:\\\\Users\\\\user\\\\Documents\\\\ConfSets_Rehaul\\\\\"#'/home/tommaullin/Documents/ConfSets_Rehaul/'\n",
    "\n",
    "# Generate some test data\n",
    "y_files, beta_files, X = generate_data(n, p, out_dir)"
   ]
  },
  {
   "attachments": {},
   "cell_type": "markdown",
   "metadata": {},
   "source": [
    "Compute the mean and standard deviation images."
   ]
  },
  {
   "cell_type": "code",
   "execution_count": 3,
   "metadata": {},
   "outputs": [
    {
     "name": "stdout",
     "output_type": "stream",
     "text": [
      "chunk shapes:  (100, 100, 100, 20, 1) (1, 1, 1, 20, 3)\n",
      "chunk shapes:  (100, 100, 100, 10, 1) (1, 1, 1, 10, 3)\n",
      "chunk check:  True\n",
      "beta shape (100, 100, 100, 3, 1)\n"
     ]
    }
   ],
   "source": [
    "# Get the estimated betahat, sigmahat and residuals\n",
    "betahat_files, var_betahat_files, resid_files = regression(y_files, X, out_dir, chunk_size=20)"
   ]
  },
  {
   "attachments": {},
   "cell_type": "markdown",
   "metadata": {},
   "source": [
    "We're going to use the first $\\hat{\\beta}$ as our signal, $\\mu$."
   ]
  },
  {
   "cell_type": "code",
   "execution_count": 4,
   "metadata": {},
   "outputs": [],
   "source": [
    "# Get muhat and sigmahat\n",
    "muhat_file = betahat_files[0]\n",
    "sigmahat_file = var_betahat_files[0]\n",
    "mu_file = beta_files[0]\n",
    "\n",
    "# Threshold c\n",
    "c = 2\n",
    "\n",
    "# Get p values\n",
    "p = np.linspace(0,1,21)"
   ]
  },
  {
   "attachments": {},
   "cell_type": "markdown",
   "metadata": {},
   "source": [
    "Let's try to generate some CRs."
   ]
  },
  {
   "cell_type": "code",
   "execution_count": 5,
   "metadata": {},
   "outputs": [
    {
     "name": "stdout",
     "output_type": "stream",
     "text": [
      "applying mask\n",
      "applying mask\n",
      "applying mask\n",
      "applying mask\n",
      "applying mask\n",
      "applying mask\n",
      "numpy time:  5.572208404541016\n"
     ]
    }
   ],
   "source": [
    "# Generate CRs\n",
    "FcHat_minus, FcHat_plus, FcHat, a_estBdry = generate_CRs(muhat_file, sigmahat_file, resid_files, c, p)"
   ]
  },
  {
   "cell_type": "code",
   "execution_count": 6,
   "metadata": {},
   "outputs": [
    {
     "name": "stdout",
     "output_type": "stream",
     "text": [
      "6.048818111419678 1.0\n"
     ]
    },
    {
     "data": {
      "text/plain": [
       "<matplotlib.colorbar.Colorbar at 0xc9f190>"
      ]
     },
     "execution_count": 6,
     "metadata": {},
     "output_type": "execute_result"
    },
    {
     "data": {
      "image/png": "[encoded data removed]",
      "text/plain": [
       "<Figure size 640x480 with 2 Axes>"
      ]
     },
     "metadata": {},
     "output_type": "display_data"
    }
   ],
   "source": [
    "i = 20\n",
    "slice = 40\n",
    "\n",
    "# Read in muhat\n",
    "muhat = np.array(nib.load(muhat_file).get_fdata())\n",
    "\n",
    "# Make a mask\n",
    "mask = muhat != 0\n",
    "\n",
    "# Create the image\n",
    "display_image = 1*mask[:,:,:,0] + 1*FcHat_plus[i,:,:,:] + 1*FcHat[:,:,:] + 1*FcHat_minus[i,:,:,:]\n",
    "\n",
    "# Transpose the last two dimensions of the image\n",
    "display_image = display_image.transpose((0,2,1))\n",
    "\n",
    "# Flip the second dimension of the image\n",
    "display_image = np.flip(display_image,axis=1)\n",
    "\n",
    "print(a_estBdry[i],p[i])\n",
    "plt.imshow(display_image[slice,:,:])\n",
    "plt.colorbar()"
   ]
  },
  {
   "cell_type": "code",
   "execution_count": 8,
   "metadata": {},
   "outputs": [
    {
     "name": "stdout",
     "output_type": "stream",
     "text": [
      "(100, 100, 100, 1)\n",
      "(100, 100, 100, 1)\n"
     ]
    },
    {
     "name": "stderr",
     "output_type": "stream",
     "text": [
      "c:\\Users\\user\\Documents\\ConfSets_Rehaul\\.venv\\lib\\site-packages\\ipykernel_launcher.py:9: RuntimeWarning: divide by zero encountered in true_divide\n",
      "  if __name__ == \"__main__\":\n"
     ]
    },
    {
     "data": {
      "image/png": "[encoded data removed]",
      "text/plain": [
       "<Figure size 640x480 with 2 Axes>"
      ]
     },
     "metadata": {},
     "output_type": "display_data"
    }
   ],
   "source": [
    "# Load in muhat and make an image of it\n",
    "muhat = nib.load(muhat_file).get_fdata()\n",
    "sigmahat = nib.load(sigmahat_file).get_fdata()\n",
    "\n",
    "print(muhat.shape)\n",
    "print(sigmahat.shape)\n",
    "\n",
    "# Create the image\n",
    "display_image = (muhat[:,:,:,0]-c)/sigmahat[:,:,:,0]\n",
    "\n",
    "# Transpose the last two dimensions of the image\n",
    "display_image = display_image.transpose((0,2,1))\n",
    "\n",
    "# Flip the second dimension of the image\n",
    "display_image = np.flip(display_image,axis=1)\n",
    "\n",
    "# Make image\n",
    "plt.imshow(display_image[slice,:,:])\n",
    "plt.colorbar()\n",
    "plt.show()"
   ]
  },
  {
   "cell_type": "code",
   "execution_count": 9,
   "metadata": {},
   "outputs": [
    {
     "data": {
      "image/png": "[encoded data removed]",
      "text/plain": [
       "<Figure size 640x480 with 2 Axes>"
      ]
     },
     "metadata": {},
     "output_type": "display_data"
    }
   ],
   "source": [
    "# Create the image\n",
    "display_image = muhat[:,:,:,0]\n",
    "\n",
    "# Transpose the last two dimensions of the image\n",
    "display_image = display_image.transpose((0,2,1))\n",
    "\n",
    "# Flip the second dimension of the image\n",
    "display_image = np.flip(display_image,axis=1)\n",
    "\n",
    "# Make image\n",
    "plt.imshow(display_image[:,slice,:])\n",
    "plt.colorbar()\n",
    "plt.show()"
   ]
  },
  {
   "cell_type": "code",
   "execution_count": 10,
   "metadata": {},
   "outputs": [
    {
     "data": {
      "image/png": "[encoded data removed]",
      "text/plain": [
       "<Figure size 640x480 with 2 Axes>"
      ]
     },
     "metadata": {},
     "output_type": "display_data"
    }
   ],
   "source": [
    "i = 20\n",
    "slice = 40\n",
    "\n",
    "# Read in mu\n",
    "mu = nib.load(mu_file).get_fdata()\n",
    "\n",
    "# Create the image\n",
    "display_image = mu[:,:,:,0] + 0.3*mask[:,:,:,0]\n",
    "\n",
    "# Transpose the last two dimensions of the image\n",
    "display_image = display_image.transpose((0,2,1))\n",
    "\n",
    "# Flip the second dimension of the image\n",
    "display_image = np.flip(display_image,axis=1)\n",
    "\n",
    "# Make image\n",
    "plt.imshow(display_image[slice,:,:])\n",
    "plt.colorbar()\n",
    "plt.show()"
   ]
  },
  {
   "cell_type": "code",
   "execution_count": 11,
   "metadata": {},
   "outputs": [
    {
     "name": "stdout",
     "output_type": "stream",
     "text": [
      "(100, 100, 100, 1)\n",
      "(100, 100, 100, 1)\n",
      "2\n",
      "3.0\n",
      "40\n",
      "applying mask\n",
      "applying mask\n",
      "applying mask\n",
      "(array([33, 33, 33, 33, 33, 33, 33, 33, 33, 33, 33, 33, 33, 33, 33, 33, 33,\n",
      "       33, 33, 33, 33, 33, 33, 33, 33, 33, 33, 33, 33, 33, 33, 33, 33, 33,\n",
      "       33, 33, 33, 34, 34, 34, 34, 34, 34, 34, 34, 34, 34, 34, 34, 34, 34,\n",
      "       34, 34, 34, 34, 34, 34, 34, 34, 34, 34, 34, 34, 34, 34, 34, 34, 34,\n",
      "       34, 34, 34, 34, 34, 34, 34, 34, 34, 34, 34, 34, 34, 34, 34, 34, 34,\n",
      "       34, 34, 34, 34, 34, 34, 34, 34, 34, 34, 34, 34, 34, 34, 34, 34, 34,\n",
      "       34, 34, 34, 34, 35, 35, 35, 35, 35, 35, 35, 35, 35, 35, 35, 35, 35,\n",
      "       35, 35, 35, 35, 35, 35, 35, 35, 35, 35, 35, 35, 35, 35, 35, 35, 35,\n",
      "       35, 35, 35, 35, 35, 35, 35, 35, 35, 35, 35, 35, 35, 35, 35, 35, 35,\n",
      "       35, 35, 35, 35, 35, 35, 35, 35, 35, 35, 35, 35, 35, 36, 36, 36, 36,\n",
      "       36, 36, 36, 36, 36, 36, 36, 36, 36, 36, 36, 36, 36, 36, 36, 36, 36,\n",
      "       36, 36, 36, 36, 36, 36, 36, 36, 36, 36, 36, 36, 36, 36, 36, 36, 36,\n",
      "       36, 36, 36, 36, 36, 36, 36, 36, 36, 36, 36, 36, 36, 36, 36, 36, 36,\n",
      "       36, 36, 36, 36, 36, 37, 37, 37, 37, 37, 37, 37, 37, 37, 37, 37, 37,\n",
      "       37, 37, 37, 37, 37, 37, 37, 37, 37, 37, 37, 37, 37, 37, 37, 37, 37,\n",
      "       37, 37, 37, 37, 37, 37, 37, 37, 37, 37, 37, 37, 37, 37, 37, 37, 37,\n",
      "       37, 37, 37, 37, 37, 37, 37, 37, 37, 37, 37, 37, 37, 37, 37, 37, 37,\n",
      "       37, 37, 37, 37, 37, 38, 38, 38, 38, 38, 38, 38, 38, 38, 38, 38, 38,\n",
      "       38, 38, 38, 38, 38, 38, 38, 38, 38, 38, 38, 38, 38, 38, 38, 38, 38,\n",
      "       38, 38, 38, 38, 38, 38, 38, 38, 38, 38, 38, 38, 38, 38, 38, 38, 38,\n",
      "       38, 38, 38, 38, 38, 38, 38, 38, 38, 38, 38, 38, 38, 38, 38, 38, 38,\n",
      "       38, 38, 38, 38, 38, 38, 38, 38, 38, 38, 39, 39, 39, 39, 39, 39, 39,\n",
      "       39, 39, 39, 39, 39, 39, 39, 39, 39, 39, 39, 39, 39, 39, 39, 39, 39,\n",
      "       39, 39, 39, 39, 39, 39, 39, 39, 39, 39, 39, 39, 39, 39, 39, 39, 39,\n",
      "       39, 39, 39, 39, 39, 39, 39, 39, 39, 39, 39, 39, 39, 39, 39, 39, 39,\n",
      "       39, 39, 39, 39, 39, 39, 39, 39, 39, 39, 39, 40, 40, 40, 40, 40, 40,\n",
      "       40, 40, 40, 40, 40, 40, 40, 40, 40, 40, 40, 40, 40, 40, 40, 40, 40,\n",
      "       40, 40, 40, 40, 40, 40, 40, 40, 40, 40, 40, 40, 40, 40, 40, 40, 40,\n",
      "       40, 40, 40, 40, 40, 40, 40, 40, 40, 40, 40, 40, 40, 40, 40, 40, 40,\n",
      "       40, 40, 40, 40, 40, 40, 40, 40, 40, 40, 41, 41, 41, 41, 41, 41, 41,\n",
      "       41, 41, 41, 41, 41, 41, 41, 41, 41, 41, 41, 41, 41, 41, 41, 41, 41,\n",
      "       41, 41, 41, 41, 41, 41, 41, 41, 41, 41, 41, 41, 41, 41, 41, 41, 41,\n",
      "       41, 41, 41, 41, 41, 41, 41, 41, 41, 41, 41, 41, 41, 41, 41, 41, 41,\n",
      "       41, 41, 41, 41, 41, 41, 41, 41, 41, 42, 42, 42, 42, 42, 42, 42, 42,\n",
      "       42, 42, 42, 42, 42, 42, 42, 42, 42, 42, 42, 42, 42, 42, 42, 42, 42,\n",
      "       42, 42, 42, 42, 42, 42, 42, 42, 42, 42, 42, 42, 42, 42, 42, 42, 42,\n",
      "       42, 42, 42, 42, 42, 42, 42, 42, 42, 42, 42, 42, 42, 42, 42, 42, 42,\n",
      "       42, 42, 42, 42, 42, 42, 42, 42, 42, 42, 42, 42, 42, 43, 43, 43, 43,\n",
      "       43, 43, 43, 43, 43, 43, 43, 43, 43, 43, 43, 43, 43, 43, 43, 43, 43,\n",
      "       43, 43, 43, 43, 43, 43, 43, 43, 43, 43, 43, 43, 43, 43, 43, 43, 43,\n",
      "       43, 43, 43, 43, 43, 43, 43, 43, 43, 43, 43, 43, 43, 43, 43, 43, 43,\n",
      "       43, 43, 43, 43, 43, 43, 43, 43, 43, 43, 43, 43, 43, 44, 44, 44, 44,\n",
      "       44, 44, 44, 44, 44, 44, 44, 44, 44, 44, 44, 44, 44, 44, 44, 44, 44,\n",
      "       44, 44, 44, 44, 44, 44, 44, 44, 44, 44, 44, 44, 44, 44, 44, 44, 44,\n",
      "       44, 44, 44, 44, 44, 44, 44, 44, 44, 44, 44, 44, 44, 44, 44, 44, 44,\n",
      "       44, 44, 44, 44, 44, 45, 45, 45, 45, 45, 45, 45, 45, 45, 45, 45, 45,\n",
      "       45, 45, 45, 45, 45, 45, 45, 45, 45, 45, 45, 45, 45, 45, 45, 45, 45,\n",
      "       45, 45, 45, 45, 45, 45, 45, 45, 45, 45, 45, 45, 45, 45, 45, 45, 45,\n",
      "       45, 45, 45, 45, 45, 45, 45, 45, 45, 45, 45, 45, 45, 45, 46, 46, 46,\n",
      "       46, 46, 46, 46, 46, 46, 46, 46, 46, 46, 46, 46, 46, 46, 46, 46, 46,\n",
      "       46, 46, 46, 46, 46, 46, 46, 46, 46, 46, 46, 46, 46, 46, 46, 46, 46,\n",
      "       46, 46, 46, 46, 46, 46, 46, 46, 46, 46, 46, 46, 46, 46, 46, 46, 46,\n",
      "       46, 46, 46, 46, 46, 46, 46, 46, 46, 46, 46, 46, 46, 46, 46, 47, 47,\n",
      "       47, 47, 47, 47, 47, 47, 47, 47, 47, 47, 47, 47, 47, 47, 47, 47, 47,\n",
      "       47, 47, 47, 47, 47, 47, 47, 47, 47, 47, 47, 47, 47, 47, 47, 47, 47,\n",
      "       47], dtype=int32), array([37, 37, 37, 38, 38, 38, 38, 38, 39, 39, 39, 39, 39, 39, 39, 40, 40,\n",
      "       40, 40, 40, 40, 40, 41, 41, 41, 41, 41, 41, 41, 42, 42, 42, 42, 42,\n",
      "       43, 43, 43, 36, 36, 36, 36, 36, 37, 37, 37, 37, 37, 37, 37, 38, 38,\n",
      "       38, 38, 38, 38, 38, 38, 38, 39, 39, 39, 39, 39, 39, 39, 39, 39, 40,\n",
      "       40, 40, 40, 40, 40, 40, 40, 40, 41, 41, 41, 41, 41, 41, 41, 41, 41,\n",
      "       42, 42, 42, 42, 42, 42, 42, 42, 42, 43, 43, 43, 43, 43, 43, 43, 44,\n",
      "       44, 44, 44, 44, 35, 35, 35, 35, 35, 36, 36, 36, 36, 36, 36, 36, 37,\n",
      "       37, 37, 37, 37, 37, 38, 38, 38, 38, 38, 38, 39, 39, 39, 39, 40, 40,\n",
      "       40, 40, 41, 41, 41, 41, 42, 42, 42, 42, 42, 42, 43, 43, 43, 43, 43,\n",
      "       43, 44, 44, 44, 44, 44, 44, 44, 45, 45, 45, 45, 45, 34, 34, 34, 34,\n",
      "       34, 35, 35, 35, 35, 35, 35, 35, 36, 36, 36, 36, 37, 37, 37, 37, 38,\n",
      "       38, 38, 38, 39, 39, 39, 39, 40, 40, 40, 40, 41, 41, 41, 41, 42, 42,\n",
      "       42, 42, 43, 43, 43, 43, 44, 44, 44, 44, 45, 45, 45, 45, 45, 45, 45,\n",
      "       46, 46, 46, 46, 46, 33, 33, 33, 34, 34, 34, 34, 34, 34, 34, 35, 35,\n",
      "       35, 35, 35, 35, 36, 36, 36, 36, 37, 37, 37, 37, 38, 38, 38, 38, 39,\n",
      "       39, 39, 39, 40, 40, 40, 40, 41, 41, 41, 41, 42, 42, 42, 42, 43, 43,\n",
      "       43, 43, 44, 44, 44, 44, 45, 45, 45, 45, 45, 45, 46, 46, 46, 46, 46,\n",
      "       46, 46, 47, 47, 47, 33, 33, 33, 33, 33, 34, 34, 34, 34, 34, 34, 34,\n",
      "       34, 34, 35, 35, 35, 35, 35, 35, 36, 36, 36, 36, 37, 37, 37, 37, 38,\n",
      "       38, 38, 38, 39, 39, 39, 39, 40, 40, 40, 40, 41, 41, 42, 42, 42, 43,\n",
      "       43, 43, 43, 44, 44, 44, 44, 45, 45, 45, 45, 45, 45, 46, 46, 46, 46,\n",
      "       46, 46, 46, 46, 46, 47, 47, 47, 47, 47, 33, 33, 33, 33, 33, 33, 33,\n",
      "       34, 34, 34, 34, 34, 34, 34, 34, 34, 35, 35, 35, 35, 36, 36, 36, 36,\n",
      "       37, 37, 37, 37, 38, 38, 38, 38, 39, 39, 39, 39, 40, 40, 41, 41, 42,\n",
      "       42, 43, 43, 43, 44, 44, 44, 44, 45, 45, 45, 45, 46, 46, 46, 46, 46,\n",
      "       46, 46, 46, 46, 47, 47, 47, 47, 47, 47, 47, 33, 33, 33, 33, 33, 33,\n",
      "       33, 34, 34, 34, 34, 34, 34, 34, 34, 34, 35, 35, 35, 35, 36, 36, 36,\n",
      "       36, 37, 37, 37, 37, 38, 38, 38, 38, 39, 39, 39, 39, 40, 40, 41, 41,\n",
      "       42, 42, 43, 43, 44, 44, 44, 45, 45, 45, 45, 46, 46, 46, 46, 46, 46,\n",
      "       46, 46, 46, 47, 47, 47, 47, 47, 47, 47, 33, 33, 33, 33, 33, 33, 33,\n",
      "       34, 34, 34, 34, 34, 34, 34, 34, 34, 35, 35, 35, 35, 36, 36, 36, 36,\n",
      "       37, 37, 37, 37, 38, 38, 38, 38, 39, 39, 39, 39, 40, 40, 41, 41, 42,\n",
      "       42, 43, 43, 44, 44, 44, 45, 45, 45, 45, 46, 46, 46, 46, 46, 46, 46,\n",
      "       46, 46, 47, 47, 47, 47, 47, 47, 47, 33, 33, 33, 33, 33, 34, 34, 34,\n",
      "       34, 34, 34, 34, 34, 34, 35, 35, 35, 35, 35, 35, 36, 36, 36, 36, 37,\n",
      "       37, 37, 37, 38, 38, 38, 38, 39, 39, 39, 39, 40, 40, 40, 40, 41, 41,\n",
      "       42, 42, 42, 43, 43, 43, 43, 44, 44, 44, 45, 45, 45, 45, 45, 45, 46,\n",
      "       46, 46, 46, 46, 46, 46, 46, 46, 47, 47, 47, 47, 47, 33, 33, 33, 34,\n",
      "       34, 34, 34, 34, 34, 34, 35, 35, 35, 35, 35, 35, 36, 36, 36, 36, 37,\n",
      "       37, 37, 37, 38, 38, 38, 38, 39, 39, 39, 39, 40, 40, 40, 40, 41, 41,\n",
      "       41, 41, 42, 42, 42, 42, 43, 43, 43, 43, 44, 44, 44, 44, 45, 45, 45,\n",
      "       45, 45, 45, 46, 46, 46, 46, 46, 46, 46, 47, 47, 47, 34, 34, 34, 34,\n",
      "       34, 35, 35, 35, 35, 35, 35, 35, 36, 36, 36, 36, 37, 37, 37, 37, 38,\n",
      "       38, 38, 38, 39, 39, 39, 39, 40, 40, 40, 40, 41, 41, 41, 41, 42, 42,\n",
      "       42, 42, 43, 43, 43, 43, 44, 44, 44, 44, 45, 45, 45, 45, 45, 45, 45,\n",
      "       46, 46, 46, 46, 46, 35, 35, 35, 35, 35, 36, 36, 36, 36, 36, 36, 36,\n",
      "       37, 37, 37, 37, 37, 37, 38, 38, 38, 38, 38, 38, 39, 39, 39, 39, 40,\n",
      "       40, 40, 40, 41, 41, 41, 41, 42, 42, 42, 42, 42, 42, 43, 43, 43, 43,\n",
      "       43, 43, 44, 44, 44, 44, 44, 44, 44, 45, 45, 45, 45, 45, 36, 36, 36,\n",
      "       36, 36, 37, 37, 37, 37, 37, 37, 37, 38, 38, 38, 38, 38, 38, 38, 38,\n",
      "       38, 39, 39, 39, 39, 39, 39, 39, 39, 39, 40, 40, 40, 40, 40, 40, 40,\n",
      "       40, 40, 41, 41, 41, 41, 41, 41, 41, 41, 41, 42, 42, 42, 42, 42, 42,\n",
      "       42, 42, 42, 43, 43, 43, 43, 43, 43, 43, 44, 44, 44, 44, 44, 37, 37,\n",
      "       37, 38, 38, 38, 38, 38, 39, 39, 39, 39, 39, 39, 39, 40, 40, 40, 40,\n",
      "       40, 40, 40, 41, 41, 41, 41, 41, 41, 41, 42, 42, 42, 42, 42, 43, 43,\n",
      "       43], dtype=int32), array([59, 60, 61, 58, 59, 60, 61, 62, 57, 58, 59, 60, 61, 62, 63, 57, 58,\n",
      "       59, 60, 61, 62, 63, 57, 58, 59, 60, 61, 62, 63, 58, 59, 60, 61, 62,\n",
      "       59, 60, 61, 58, 59, 60, 61, 62, 57, 58, 59, 60, 61, 62, 63, 56, 57,\n",
      "       58, 59, 60, 61, 62, 63, 64, 56, 57, 58, 59, 60, 61, 62, 63, 64, 56,\n",
      "       57, 58, 59, 60, 61, 62, 63, 64, 56, 57, 58, 59, 60, 61, 62, 63, 64,\n",
      "       56, 57, 58, 59, 60, 61, 62, 63, 64, 57, 58, 59, 60, 61, 62, 63, 58,\n",
      "       59, 60, 61, 62, 58, 59, 60, 61, 62, 57, 58, 59, 60, 61, 62, 63, 56,\n",
      "       57, 58, 62, 63, 64, 55, 56, 57, 63, 64, 65, 55, 56, 64, 65, 55, 56,\n",
      "       64, 65, 55, 56, 64, 65, 55, 56, 57, 63, 64, 65, 56, 57, 58, 62, 63,\n",
      "       64, 57, 58, 59, 60, 61, 62, 63, 58, 59, 60, 61, 62, 58, 59, 60, 61,\n",
      "       62, 57, 58, 59, 60, 61, 62, 63, 56, 57, 63, 64, 55, 56, 64, 65, 54,\n",
      "       55, 65, 66, 54, 55, 65, 66, 54, 55, 65, 66, 54, 55, 65, 66, 54, 55,\n",
      "       65, 66, 55, 56, 64, 65, 56, 57, 63, 64, 57, 58, 59, 60, 61, 62, 63,\n",
      "       58, 59, 60, 61, 62, 59, 60, 61, 57, 58, 59, 60, 61, 62, 63, 56, 57,\n",
      "       58, 62, 63, 64, 55, 56, 64, 65, 54, 55, 65, 66, 54, 55, 65, 66, 53,\n",
      "       54, 66, 67, 53, 54, 66, 67, 53, 54, 66, 67, 54, 55, 65, 66, 54, 55,\n",
      "       65, 66, 55, 56, 64, 65, 56, 57, 58, 62, 63, 64, 57, 58, 59, 60, 61,\n",
      "       62, 63, 59, 60, 61, 58, 59, 60, 61, 62, 56, 57, 58, 59, 60, 61, 62,\n",
      "       63, 64, 55, 56, 57, 63, 64, 65, 54, 55, 65, 66, 54, 55, 65, 66, 53,\n",
      "       54, 66, 67, 53, 54, 66, 67, 53, 54, 66, 67, 66, 67, 54, 66, 67, 54,\n",
      "       55, 65, 66, 54, 55, 65, 66, 55, 56, 57, 63, 64, 65, 56, 57, 58, 59,\n",
      "       60, 61, 62, 63, 64, 58, 59, 60, 61, 62, 57, 58, 59, 60, 61, 62, 63,\n",
      "       56, 57, 58, 59, 60, 61, 62, 63, 64, 55, 56, 64, 65, 54, 55, 65, 66,\n",
      "       53, 54, 66, 67, 53, 54, 66, 67, 53, 54, 66, 67, 66, 67, 66, 67, 66,\n",
      "       67, 54, 66, 67, 54, 55, 65, 66, 55, 56, 64, 65, 56, 57, 58, 59, 60,\n",
      "       61, 62, 63, 64, 57, 58, 59, 60, 61, 62, 63, 57, 58, 59, 60, 61, 62,\n",
      "       63, 56, 57, 58, 59, 60, 61, 62, 63, 64, 55, 56, 64, 65, 54, 55, 65,\n",
      "       66, 53, 54, 66, 67, 53, 54, 66, 67, 53, 54, 66, 67, 66, 67, 66, 67,\n",
      "       66, 67, 66, 67, 55, 65, 66, 55, 56, 64, 65, 56, 57, 58, 59, 60, 61,\n",
      "       62, 63, 64, 57, 58, 59, 60, 61, 62, 63, 57, 58, 59, 60, 61, 62, 63,\n",
      "       56, 57, 58, 59, 60, 61, 62, 63, 64, 55, 56, 64, 65, 54, 55, 65, 66,\n",
      "       53, 54, 66, 67, 53, 54, 66, 67, 53, 54, 66, 67, 66, 67, 66, 67, 66,\n",
      "       67, 66, 67, 55, 65, 66, 55, 56, 64, 65, 56, 57, 58, 59, 60, 61, 62,\n",
      "       63, 64, 57, 58, 59, 60, 61, 62, 63, 58, 59, 60, 61, 62, 56, 57, 58,\n",
      "       59, 60, 61, 62, 63, 64, 55, 56, 57, 63, 64, 65, 54, 55, 65, 66, 54,\n",
      "       55, 65, 66, 53, 54, 66, 67, 53, 54, 66, 67, 53, 54, 66, 67, 66, 67,\n",
      "       54, 66, 67, 54, 55, 65, 66, 55, 65, 66, 55, 56, 57, 63, 64, 65, 56,\n",
      "       57, 58, 59, 60, 61, 62, 63, 64, 58, 59, 60, 61, 62, 59, 60, 61, 57,\n",
      "       58, 59, 60, 61, 62, 63, 56, 57, 58, 62, 63, 64, 55, 56, 64, 65, 54,\n",
      "       55, 65, 66, 54, 55, 65, 66, 53, 54, 66, 67, 53, 54, 66, 67, 53, 54,\n",
      "       66, 67, 54, 55, 65, 66, 54, 55, 65, 66, 55, 56, 64, 65, 56, 57, 58,\n",
      "       62, 63, 64, 57, 58, 59, 60, 61, 62, 63, 59, 60, 61, 58, 59, 60, 61,\n",
      "       62, 57, 58, 59, 60, 61, 62, 63, 56, 57, 63, 64, 55, 56, 64, 65, 54,\n",
      "       55, 65, 66, 54, 55, 65, 66, 54, 55, 65, 66, 54, 55, 65, 66, 54, 55,\n",
      "       65, 66, 55, 56, 64, 65, 56, 57, 63, 64, 57, 58, 59, 60, 61, 62, 63,\n",
      "       58, 59, 60, 61, 62, 58, 59, 60, 61, 62, 57, 58, 59, 60, 61, 62, 63,\n",
      "       56, 57, 58, 62, 63, 64, 55, 56, 57, 63, 64, 65, 55, 56, 64, 65, 55,\n",
      "       56, 64, 65, 55, 56, 64, 65, 55, 56, 57, 63, 64, 65, 56, 57, 58, 62,\n",
      "       63, 64, 57, 58, 59, 60, 61, 62, 63, 58, 59, 60, 61, 62, 58, 59, 60,\n",
      "       61, 62, 57, 58, 59, 60, 61, 62, 63, 56, 57, 58, 59, 60, 61, 62, 63,\n",
      "       64, 56, 57, 58, 59, 60, 61, 62, 63, 64, 56, 57, 58, 59, 60, 61, 62,\n",
      "       63, 64, 56, 57, 58, 59, 60, 61, 62, 63, 64, 56, 57, 58, 59, 60, 61,\n",
      "       62, 63, 64, 57, 58, 59, 60, 61, 62, 63, 58, 59, 60, 61, 62, 59, 60,\n",
      "       61, 58, 59, 60, 61, 62, 57, 58, 59, 60, 61, 62, 63, 57, 58, 59, 60,\n",
      "       61, 62, 63, 57, 58, 59, 60, 61, 62, 63, 58, 59, 60, 61, 62, 59, 60,\n",
      "       61], dtype=int32), array([0, 0, 0, 0, 0, 0, 0, 0, 0, 0, 0, 0, 0, 0, 0, 0, 0, 0, 0, 0, 0, 0,\n",
      "       0, 0, 0, 0, 0, 0, 0, 0, 0, 0, 0, 0, 0, 0, 0, 0, 0, 0, 0, 0, 0, 0,\n",
      "       0, 0, 0, 0, 0, 0, 0, 0, 0, 0, 0, 0, 0, 0, 0, 0, 0, 0, 0, 0, 0, 0,\n",
      "       0, 0, 0, 0, 0, 0, 0, 0, 0, 0, 0, 0, 0, 0, 0, 0, 0, 0, 0, 0, 0, 0,\n",
      "       0, 0, 0, 0, 0, 0, 0, 0, 0, 0, 0, 0, 0, 0, 0, 0, 0, 0, 0, 0, 0, 0,\n",
      "       0, 0, 0, 0, 0, 0, 0, 0, 0, 0, 0, 0, 0, 0, 0, 0, 0, 0, 0, 0, 0, 0,\n",
      "       0, 0, 0, 0, 0, 0, 0, 0, 0, 0, 0, 0, 0, 0, 0, 0, 0, 0, 0, 0, 0, 0,\n",
      "       0, 0, 0, 0, 0, 0, 0, 0, 0, 0, 0, 0, 0, 0, 0, 0, 0, 0, 0, 0, 0, 0,\n",
      "       0, 0, 0, 0, 0, 0, 0, 0, 0, 0, 0, 0, 0, 0, 0, 0, 0, 0, 0, 0, 0, 0,\n",
      "       0, 0, 0, 0, 0, 0, 0, 0, 0, 0, 0, 0, 0, 0, 0, 0, 0, 0, 0, 0, 0, 0,\n",
      "       0, 0, 0, 0, 0, 0, 0, 0, 0, 0, 0, 0, 0, 0, 0, 0, 0, 0, 0, 0, 0, 0,\n",
      "       0, 0, 0, 0, 0, 0, 0, 0, 0, 0, 0, 0, 0, 0, 0, 0, 0, 0, 0, 0, 0, 0,\n",
      "       0, 0, 0, 0, 0, 0, 0, 0, 0, 0, 0, 0, 0, 0, 0, 0, 0, 0, 0, 0, 0, 0,\n",
      "       0, 0, 0, 0, 0, 0, 0, 0, 0, 0, 0, 0, 0, 0, 0, 0, 0, 0, 0, 0, 0, 0,\n",
      "       0, 0, 0, 0, 0, 0, 0, 0, 0, 0, 0, 0, 0, 0, 0, 0, 0, 0, 0, 0, 0, 0,\n",
      "       0, 0, 0, 0, 0, 0, 0, 0, 0, 0, 0, 0, 0, 0, 0, 0, 0, 0, 0, 0, 0, 0,\n",
      "       0, 0, 0, 0, 0, 0, 0, 0, 0, 0, 0, 0, 0, 0, 0, 0, 0, 0, 0, 0, 0, 0,\n",
      "       0, 0, 0, 0, 0, 0, 0, 0, 0, 0, 0, 0, 0, 0, 0, 0, 0, 0, 0, 0, 0, 0,\n",
      "       0, 0, 0, 0, 0, 0, 0, 0, 0, 0, 0, 0, 0, 0, 0, 0, 0, 0, 0, 0, 0, 0,\n",
      "       0, 0, 0, 0, 0, 0, 0, 0, 0, 0, 0, 0, 0, 0, 0, 0, 0, 0, 0, 0, 0, 0,\n",
      "       0, 0, 0, 0, 0, 0, 0, 0, 0, 0, 0, 0, 0, 0, 0, 0, 0, 0, 0, 0, 0, 0,\n",
      "       0, 0, 0, 0, 0, 0, 0, 0, 0, 0, 0, 0, 0, 0, 0, 0, 0, 0, 0, 0, 0, 0,\n",
      "       0, 0, 0, 0, 0, 0, 0, 0, 0, 0, 0, 0, 0, 0, 0, 0, 0, 0, 0, 0, 0, 0,\n",
      "       0, 0, 0, 0, 0, 0, 0, 0, 0, 0, 0, 0, 0, 0, 0, 0, 0, 0, 0, 0, 0, 0,\n",
      "       0, 0, 0, 0, 0, 0, 0, 0, 0, 0, 0, 0, 0, 0, 0, 0, 0, 0, 0, 0, 0, 0,\n",
      "       0, 0, 0, 0, 0, 0, 0, 0, 0, 0, 0, 0, 0, 0, 0, 0, 0, 0, 0, 0, 0, 0,\n",
      "       0, 0, 0, 0, 0, 0, 0, 0, 0, 0, 0, 0, 0, 0, 0, 0, 0, 0, 0, 0, 0, 0,\n",
      "       0, 0, 0, 0, 0, 0, 0, 0, 0, 0, 0, 0, 0, 0, 0, 0, 0, 0, 0, 0, 0, 0,\n",
      "       0, 0, 0, 0, 0, 0, 0, 0, 0, 0, 0, 0, 0, 0, 0, 0, 0, 0, 0, 0, 0, 0,\n",
      "       0, 0, 0, 0, 0, 0, 0, 0, 0, 0, 0, 0, 0, 0, 0, 0, 0, 0, 0, 0, 0, 0,\n",
      "       0, 0, 0, 0, 0, 0, 0, 0, 0, 0, 0, 0, 0, 0, 0, 0, 0, 0, 0, 0, 0, 0,\n",
      "       0, 0, 0, 0, 0, 0, 0, 0, 0, 0, 0, 0, 0, 0, 0, 0, 0, 0, 0, 0, 0, 0,\n",
      "       0, 0, 0, 0, 0, 0, 0, 0, 0, 0, 0, 0, 0, 0, 0, 0, 0, 0, 0, 0, 0, 0,\n",
      "       0, 0, 0, 0, 0, 0, 0, 0, 0, 0, 0, 0, 0, 0, 0, 0, 0, 0, 0, 0, 0, 0,\n",
      "       0, 0, 0, 0, 0, 0, 0, 0, 0, 0, 0, 0, 0, 0, 0, 0, 0, 0, 0, 0, 0, 0,\n",
      "       0, 0, 0, 0, 0, 0, 0, 0, 0, 0, 0, 0, 0, 0, 0, 0, 0, 0, 0, 0, 0, 0,\n",
      "       0, 0, 0, 0, 0, 0, 0, 0, 0, 0, 0, 0, 0, 0, 0, 0, 0, 0, 0, 0, 0, 0,\n",
      "       0, 0, 0, 0, 0, 0, 0, 0, 0, 0, 0, 0, 0, 0, 0, 0, 0, 0, 0, 0, 0, 0,\n",
      "       0, 0, 0, 0, 0, 0, 0, 0, 0, 0, 0, 0, 0, 0, 0, 0, 0, 0, 0, 0, 0, 0,\n",
      "       0, 0, 0, 0, 0, 0, 0, 0, 0, 0, 0, 0, 0, 0, 0, 0, 0, 0, 0, 0, 0, 0,\n",
      "       0, 0, 0, 0, 0, 0, 0, 0, 0, 0, 0, 0, 0, 0, 0, 0, 0, 0, 0, 0, 0, 0,\n",
      "       0, 0, 0, 0, 0, 0, 0, 0, 0, 0, 0, 0, 0, 0, 0, 0, 0, 0, 0, 0, 0, 0,\n",
      "       0, 0, 0, 0, 0, 0, 0, 0, 0, 0, 0, 0], dtype=int32))\n"
     ]
    },
    {
     "data": {
      "image/png": "[encoded data removed]",
      "text/plain": [
       "<Figure size 640x480 with 1 Axes>"
      ]
     },
     "metadata": {},
     "output_type": "display_data"
    }
   ],
   "source": [
    "print(muhat.shape)\n",
    "print(mu.shape)\n",
    "print(c)\n",
    "print(np.max(mu))\n",
    "print(slice)\n",
    "slice = 40\n",
    "\n",
    "# Get boundary of FcHat\n",
    "FcHat_bdry_map = get_bdry_map_combined(mu, c, mask=mask)\n",
    "\n",
    "# Create the image\n",
    "display_image = FcHat_bdry_map.reshape(FcHat_bdry_map.shape[:-1]) + 0.3*mask[:,:,:,0]\n",
    "\n",
    "# Transpose the last two dimensions of the image\n",
    "display_image = display_image.transpose((0,2,1))\n",
    "\n",
    "# Flip the second dimension of the image\n",
    "display_image = np.flip(display_image,axis=1)\n",
    "\n",
    "# Make image\n",
    "plt.imshow(display_image[slice,:,:])\n",
    "print(np.where(FcHat_bdry_map))"
   ]
  },
  {
   "cell_type": "code",
   "execution_count": 12,
   "metadata": {},
   "outputs": [
    {
     "name": "stdout",
     "output_type": "stream",
     "text": [
      "1.0424575805664062 0.8517146110534668\n"
     ]
    }
   ],
   "source": [
    "total_time1 = 0\n",
    "total_time2 = 0\n",
    "\n",
    "for i in np.arange(10000):\n",
    "\n",
    "    t1 = time.time()\n",
    "    (2*np.random.randint(0,2,(100,100),dtype=\"int8\")-1).dtype\n",
    "    t2 = time.time()\n",
    "\n",
    "    total_time1 += t2-t1\n",
    "\n",
    "    t1 = time.time()\n",
    "    (2*np.random.randint(0,2,(100,100))-1).dtype\n",
    "    t2 = time.time()\n",
    "\n",
    "    total_time2 += t2-t1\n",
    "\n",
    "print(total_time1, total_time2)"
   ]
  },
  {
   "cell_type": "code",
   "execution_count": 13,
   "metadata": {},
   "outputs": [
    {
     "name": "stdout",
     "output_type": "stream",
     "text": [
      "[[ 1 -1  1 ...  1  1  1]\n",
      " [-1  1 -1 ...  1 -1 -1]\n",
      " [-1  1 -1 ...  1  1  1]\n",
      " ...\n",
      " [-1  1 -1 ... -1  1  1]\n",
      " [-1  1 -1 ...  1 -1  1]\n",
      " [-1  1 -1 ...  1  1  1]]\n"
     ]
    }
   ],
   "source": [
    "print((2*np.random.randint(0,2,(100,100),dtype=\"int8\")-1))"
   ]
  },
  {
   "cell_type": "code",
   "execution_count": 13,
   "metadata": {},
   "outputs": [
    {
     "name": "stdout",
     "output_type": "stream",
     "text": [
      "50\n",
      "[-8.42543836e-01  5.35296207e-01  1.21138801e+00  9.89366110e-01\n",
      "  9.93961114e-01 -6.51552044e-01 -7.58053984e-01 -5.59268736e-01\n",
      "  6.78994299e-01  1.62630782e-01  9.50431590e-01  2.46752844e-02\n",
      " -1.52628630e+00  1.40671601e-01  7.54000793e-02 -5.98056900e-02\n",
      "  8.61623677e-01 -9.45890522e-02  8.13783830e-01 -1.08193812e+00\n",
      " -1.03562370e+00  1.08160326e+00 -8.07940985e-01  1.03967681e-01\n",
      " -1.22070340e+00  1.17909594e-01 -4.71104127e-02  7.44771526e-01\n",
      "  1.84790491e-01 -1.10957144e+00  7.97370877e-01  4.24639516e-01\n",
      "  7.17220311e-01 -3.96107820e-01 -9.06418399e-01  5.12996535e-01\n",
      " -1.10256768e+00  4.27036340e-01 -1.49660574e+00 -5.96710398e-01\n",
      " -4.16327081e-01  2.97731303e-01 -1.46018259e+00  3.27980814e-01\n",
      " -1.10152548e-01 -1.57192721e+00 -1.23672373e+00 -8.01331000e-01\n",
      "  3.66237982e-01  2.80003578e-01  1.84779674e+00  4.89452455e-02\n",
      "  6.43054078e-02 -8.39852109e-01 -8.69113848e-02  6.26520189e-01\n",
      " -1.28240232e-01  7.60995673e-01  1.34083234e-01 -2.02234178e-01\n",
      " -7.55615051e-01 -3.57426213e-01 -8.95488033e-01  1.10240826e+00\n",
      " -1.57897465e+00 -6.80816694e-01 -9.00508952e-01  2.39855112e-01\n",
      " -1.01771299e+00 -2.14543927e+00 -7.96483652e-01  6.20075024e-01\n",
      "  8.42078860e-01 -4.95774754e-01 -1.13489051e+00  3.63595678e-01\n",
      " -1.29033656e+00 -1.12554786e+00 -6.62525890e-01 -8.03623861e-01\n",
      "  4.45030483e-01  1.45366267e+00 -4.37799284e-01  2.89301617e-01\n",
      " -4.42180985e-01  8.75608103e-01 -1.39447668e+00 -4.70472026e-01\n",
      "  9.80443712e-01  1.24388265e+00 -1.14679750e+00 -6.56344034e-01\n",
      " -1.80560858e+00 -2.12671738e+00  9.41846108e-01  5.12233248e-01\n",
      "  2.37074514e-01  1.23956759e-01  3.76723711e-01  1.77176580e+00\n",
      "  1.01386918e-01  8.30822546e-01 -1.47983446e+00  1.36435038e-02\n",
      " -2.52767698e+00  2.15387137e+00  2.20207481e-01 -2.04099598e-01\n",
      " -1.58468385e+00  6.50009419e-01 -3.66364771e-01 -9.52876140e-01\n",
      "  1.19433562e-01 -1.84058289e+00  2.16810461e-01  2.89626877e-01\n",
      "  1.34745327e-01  6.05816613e-02  1.85422575e-01  2.92028349e-01\n",
      "  1.02641939e+00 -4.49314628e-01  1.60833475e+00  8.62561562e-01\n",
      "  1.50649133e+00  7.19645694e-01 -7.63227859e-01 -4.24052627e-03\n",
      "  3.39662537e-01 -8.56409237e-01  8.25232031e-02 -6.85732069e-02\n",
      " -1.23904164e+00  5.37360133e-01 -4.08163261e-01 -1.00832273e+00\n",
      " -4.87732878e-01 -3.18804761e-01  8.91379954e-01 -2.79562332e-01\n",
      "  1.40215649e-01  1.40711213e+00 -3.84192454e-01 -4.02055955e-01\n",
      " -5.32998253e-01 -6.89700007e-01 -1.48862706e-02  1.87564682e-01\n",
      " -6.84237393e-01  8.52630755e-01  1.08352680e+00 -1.69416226e+00\n",
      " -1.23759882e+00  1.01965830e-01  1.47560578e+00 -8.08554072e-01\n",
      " -4.79527422e-01 -9.40989391e-01  1.17897046e+00  5.59561257e-01\n",
      "  1.72120400e+00  6.72563204e-01 -3.82514111e-01  1.08162711e+00\n",
      "  6.96959008e-01 -2.86453263e-01  1.70798543e+00  1.15877622e+00\n",
      "  1.11711613e-01 -1.56663759e+00  1.16729940e+00  5.08789971e-01\n",
      " -5.17684295e-03  1.51533340e-01  2.22804009e+00 -1.42801189e+00\n",
      "  2.01085417e+00  3.01450766e-01  2.63953053e-01 -6.03504130e-01\n",
      "  6.53867229e-01 -5.16361909e-02 -1.16846966e+00 -1.48174527e+00\n",
      " -1.55089149e-01 -5.11885204e-01  8.26553732e-01 -2.27267695e-01\n",
      "  2.32096714e-01  1.03204912e+00  1.73945038e+00  2.11782228e-01\n",
      " -1.00261159e+00 -3.06373261e-01  2.00647365e+00 -2.17867230e-01\n",
      "  1.36800841e-01 -2.36179496e+00 -1.28322157e+00  3.60975255e-01\n",
      " -3.02501626e-01 -1.32056948e-01 -2.43301494e+00 -2.08990112e-01\n",
      "  1.62676393e+00  8.84508394e-02 -6.56423218e-01  1.46876908e+00\n",
      " -4.84081997e-01 -2.08643756e+00  2.12627697e+00 -4.25950543e-01\n",
      " -1.36444260e-01 -1.09627675e-01 -7.76973138e-02 -5.27751424e-01\n",
      "  5.50007360e-01  8.55378072e-01 -8.12244876e-01  5.89710928e-01\n",
      "  3.00409725e+00 -9.28293573e-03  1.47845786e+00  4.05215333e-01\n",
      " -8.30948279e-01 -6.33168423e-01 -3.06498601e-01  4.87873558e-01\n",
      "  1.83669688e+00 -7.54191254e-01  1.31183953e+00 -4.08198120e-01\n",
      "  7.28600945e-01  2.30309310e-02  6.27724756e-01  1.71424686e+00\n",
      " -1.66957404e+00 -9.48063612e-03 -4.68178546e-01  5.67439500e-01\n",
      " -4.07729094e-01  1.95526033e-01 -1.43509837e+00 -7.29811241e-02\n",
      "  1.33571092e+00  9.69217776e-01  2.32603206e+00  1.99156602e+00\n",
      " -2.50302284e-01 -2.26186232e+00 -3.02913170e-01  6.57293323e-01\n",
      " -3.04287599e-01 -1.19972725e+00  9.52661682e-01  1.00498596e+00\n",
      "  5.87462466e-01 -9.52501998e-01 -7.95513841e-01  1.31040678e+00\n",
      " -9.06854353e-01  3.04000267e-01 -4.03089578e-01 -7.21021780e-02\n",
      "  2.45115539e-01 -1.78671285e+00  3.61381998e-01  6.29119356e-01\n",
      " -7.14047937e-01  9.44544096e-01  7.86468679e-01 -1.21310036e+00\n",
      "  7.66612233e-01 -1.97188806e-01 -2.24923496e-01 -1.34371015e-01\n",
      " -1.21776996e+00  3.85774405e-01 -1.71225363e-01  1.22747734e-01\n",
      " -1.21078720e+00  1.29431431e+00 -1.28521719e+00  9.99498698e-01\n",
      " -1.39768723e+00  2.79360123e-01 -7.12219734e-01 -7.91922546e-01\n",
      "  1.82847667e+00 -7.83403591e-01 -2.23498663e+00  2.12461990e+00\n",
      " -3.34802325e-01 -1.39214239e-01 -3.54154864e-01  8.70200795e-01\n",
      "  3.74985574e-02 -9.34492132e-01  2.43541632e-03  3.54093618e-01\n",
      " -1.91570193e+00 -3.99454359e-01  5.19095657e-01 -1.56657312e+00\n",
      "  4.32377449e-01 -5.68771672e-01 -1.06889262e+00 -9.12629006e-01\n",
      " -2.65239031e-01 -3.52728757e-01 -2.39189816e-01  1.55452095e-01\n",
      "  1.21011284e+00 -1.59336711e+00  1.58877780e-01  1.63980990e+00\n",
      "  1.93688841e-01  6.19395963e-01 -4.02620094e-01 -2.63597529e-01\n",
      "  2.03266761e-01 -1.14408054e-01 -1.29164170e+00  5.47076165e-01\n",
      " -1.18746164e+00 -5.37797699e-01 -3.70206831e-01  3.79925825e-01\n",
      "  1.80665499e+00  6.00414082e-01  1.63787559e-01 -5.87887982e-01\n",
      "  6.53829161e-02  1.29762868e+00 -1.11222727e+00 -1.08655019e+00\n",
      " -1.76232814e-01 -8.64201157e-01 -9.28963015e-01 -7.82148914e-01\n",
      " -6.41684919e-01 -1.00386111e-01 -1.49928475e+00  2.49962562e-01\n",
      "  2.98580915e-01 -2.75099840e-02 -2.69041935e+00 -3.69148254e-01\n",
      " -9.91761954e-01  1.70421090e+00 -4.19392212e-01  1.80076162e-02\n",
      "  2.15369036e+00 -3.51792947e-01 -7.17286724e-01 -1.08695740e+00\n",
      " -7.93980235e-01 -1.28238936e+00  5.18113667e-01  1.58563444e+00\n",
      "  1.98211019e-01  1.99254256e-01 -8.28583151e-01  1.18410293e+00\n",
      " -3.17512832e-01  2.35553060e-01 -6.10396717e-01 -1.63715914e+00\n",
      " -3.05299425e-01  1.16672260e+00  5.15039604e-01  6.51297192e-01\n",
      "  5.42012698e-01  1.33003030e-01  1.45333313e-01  4.70529300e-01\n",
      " -6.72155352e-01  1.08905061e-01  2.44189819e-01 -5.11703013e-01\n",
      " -1.02735872e+00 -1.25014133e-01 -1.56114132e+00  7.37534726e-01\n",
      " -8.01304262e-01 -1.63418359e+00 -8.86840017e-01  6.17220379e-01\n",
      " -8.25574517e-01 -1.66735177e+00 -1.71251819e+00  6.60562610e-01\n",
      " -1.44508187e-01  2.80198273e-01  2.30779944e+00  1.84810728e-01\n",
      "  1.58806766e+00 -9.87874324e-01 -8.02116978e-01 -8.00679714e-02\n",
      " -1.33551194e+00 -2.64474681e-01  2.31227636e+00 -7.51012006e-01\n",
      "  6.59013491e-01  2.11390056e-02 -3.82181159e-01 -1.03777672e-01\n",
      "  1.03697455e-01 -1.21395145e+00 -1.30870628e+00 -3.01283597e+00\n",
      "  2.51021600e-01 -9.89654254e-01  2.46649580e-01 -1.03778411e+00\n",
      "  2.62937414e-01 -8.33856787e-01 -7.91437744e-01  7.24599650e-01\n",
      " -1.22825310e+00  5.15615986e-01 -4.51514213e-01  1.34614143e-01\n",
      " -5.72665866e-01  1.47292563e+00  8.91637925e-01 -1.85371807e+00\n",
      "  1.06671359e+00 -1.12915921e+00  4.14030994e-01 -1.61265672e-02\n",
      " -1.76675638e+00  4.88511071e-01 -3.23163347e-01 -1.42064210e+00\n",
      " -4.92304384e-01 -7.94065689e-01 -1.09337778e+00 -7.60998080e-01\n",
      " -7.78740879e-01 -6.72528882e-01  6.97297173e-01 -1.62296861e+00\n",
      "  4.02404613e-01 -7.45648000e-02 -7.09302052e-01 -7.47320303e-01\n",
      "  3.28152527e-01  1.29878216e+00 -2.25845142e+00  1.12360990e+00\n",
      " -3.41759844e+00  1.70998548e+00 -1.76899717e-01  3.15066883e-02\n",
      " -1.36452660e+00  5.77604041e-01  7.78085210e-01 -4.17269145e-01\n",
      "  1.71268789e+00 -8.44144412e-01 -6.48185919e-02  1.86270575e+00\n",
      " -9.09825668e-01  7.20902576e-01  3.28163953e-01  3.13179629e-01\n",
      "  1.06715303e+00 -7.09048889e-01 -5.83467986e-01 -1.09262582e+00\n",
      "  3.88915732e-01 -3.40966318e-01  1.34131037e-01 -8.48086053e-02\n",
      " -1.30027103e+00  2.29114411e+00  1.89012966e+00 -5.41847739e-01\n",
      "  4.44213517e-01 -1.45927351e+00  2.18718110e+00 -1.90741164e-01\n",
      " -7.49318662e-01  1.59087504e+00 -5.00056376e-01  9.67891367e-01\n",
      "  2.86437311e-01  1.00658559e+00  3.24779970e-01 -9.69330234e-02\n",
      "  5.14468398e-01 -5.61928011e-01  4.77708135e-01 -9.65466880e-02\n",
      "  8.00241293e-01  3.43322389e-01 -1.59585477e+00 -9.35113855e-01]\n",
      "(500,)\n"
     ]
    }
   ],
   "source": [
    "mask = np.random.randint(0,2,(1,10,10),dtype=\"int8\")==1\n",
    "data = np.random.randn(10,10,10)\n",
    "\n",
    "\n",
    "print(np.sum(mask))\n",
    "\n",
    "# Return the elements of the data inside the mask, broadcasting the mask\n",
    "print(data[np.broadcast_to(mask, data.shape)])\n",
    "print(data[np.broadcast_to(mask, data.shape)].shape)    "
   ]
  },
  {
   "cell_type": "code",
   "execution_count": 14,
   "metadata": {},
   "outputs": [
    {
     "name": "stdout",
     "output_type": "stream",
     "text": [
      "(21, 100, 100, 100)\n",
      "0.9500000000000001\n",
      "(100, 100, 100, 1)\n"
     ]
    }
   ],
   "source": [
    "# Save confidence regions\n",
    "out_dir = 'C:\\\\Users\\\\user\\\\Documents\\\\ConfSets_Rehaul\\\\src\\\\demo\\\\data\\\\example1\\\\'\n",
    "\n",
    "# Create Fc\n",
    "Fc = mu > c\n",
    "\n",
    "# Save FcHat_minus\n",
    "FcHat_minus_file = out_dir + 'Lower_CR_Example2.nii.gz'\n",
    "addBlockToNifti(os.path.join(out_dir,FcHat_minus_file), FcHat_minus[20,...], np.arange(np.prod(FcHat_minus[20,...].shape)), volInd=0,dim=FcHat_minus[20,...].shape)\n",
    "\n",
    "# Write to nifti\n",
    "print(FcHat_minus.shape)\n",
    "print(p[19])\n",
    "\n",
    "# Save FcHat_plus\n",
    "FcHat_plus_file = out_dir + 'Upper_CR_Example2.nii.gz'\n",
    "addBlockToNifti(os.path.join(out_dir,FcHat_plus_file), FcHat_plus[20,...], np.arange(np.prod(FcHat_plus[20,...].shape)), volInd=0,dim=FcHat_plus[20,...].shape)\n",
    "\n",
    "# Save FcHat\n",
    "FcHat_file = out_dir + 'Estimated_Ac_Example2.nii.gz'\n",
    "addBlockToNifti(os.path.join(out_dir,FcHat_file), FcHat, np.arange(np.prod(FcHat.shape)), volInd=0,dim=FcHat.shape)\n",
    "\n",
    "# Save Fc\n",
    "Fc_file = out_dir + 'True_Ac_Example2.nii.gz'\n",
    "addBlockToNifti(os.path.join(out_dir,Fc_file), Fc[...,0], np.arange(np.prod(Fc[...,0].shape)), volInd=0,dim=Fc[...,0].shape)\n",
    "\n",
    "\n",
    "# Save Fc\n",
    "mask_file = 'C:\\\\Users\\\\user\\\\Documents\\\\ConfSets_Rehaul\\\\src\\\\demo\\\\data\\\\' + 'mask.nii.gz'\n",
    "print(mask.shape)\n",
    "addBlockToNifti(os.path.join(out_dir,mask_file), mask[...,0], np.arange(np.prod(mask[...,0].shape)), volInd=0,dim=mask[...,0].shape)\n"
   ]
  },
  {
   "attachments": {},
   "cell_type": "markdown",
   "metadata": {},
   "source": []
  },
  {
   "cell_type": "code",
   "execution_count": 15,
   "metadata": {},
   "outputs": [],
   "source": [
    "\n",
    "# Save mu\n",
    "mu_file = out_dir + 'True_Signal_Example2.nii.gz'\n",
    "addBlockToNifti(os.path.join(out_dir,mu_file), mu, np.arange(np.prod(mu.shape)), volInd=0,dim=mu.shape)\n",
    "\n",
    "\n",
    "# Save muhat\n",
    "muhat_file = out_dir + 'Estimated_Signal_Example2.nii.gz'\n",
    "addBlockToNifti(os.path.join(out_dir,muhat_file), muhat, np.arange(np.prod(muhat.shape)), volInd=0,dim=muhat.shape)\n",
    "\n",
    "# Read in a Y instance\n",
    "y_instance = nib.load(y_files[0]).get_fdata()\n",
    "\n",
    "# Save a Y instance\n",
    "y_file = out_dir + 'Data_Instance_Example2.nii.gz'\n",
    "addBlockToNifti(os.path.join(out_dir,y_file), y_instance, np.arange(np.prod(y_instance.shape)), volInd=0,dim=muhat.shape)\n"
   ]
  },
  {
   "cell_type": "code",
   "execution_count": null,
   "metadata": {},
   "outputs": [],
   "source": []
  },
  {
   "cell_type": "code",
   "execution_count": null,
   "metadata": {},
   "outputs": [],
   "source": []
  }
 ],
 "metadata": {
  "kernelspec": {
   "display_name": ".venv",
   "language": "python",
   "name": "python3"
  },
  "language_info": {
   "codemirror_mode": {
    "name": "ipython",
    "version": 3
   },
   "file_extension": ".py",
   "mimetype": "text/x-python",
   "name": "python",
   "nbconvert_exporter": "python",
   "pygments_lexer": "ipython3",
   "version": "3.7.2"
  },
  "orig_nbformat": 4
 },
 "nbformat": 4,
 "nbformat_minor": 2
}
