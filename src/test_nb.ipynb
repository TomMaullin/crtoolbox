{
 "cells": [
  {
   "attachments": {},
   "cell_type": "markdown",
   "metadata": {},
   "source": [
    "# Test Notebook for Confidence Regions Toolbox"
   ]
  },
  {
   "attachments": {},
   "cell_type": "markdown",
   "metadata": {},
   "source": [
    "## Import Packages"
   ]
  },
  {
   "cell_type": "code",
   "execution_count": 1,
   "metadata": {},
   "outputs": [
    {
     "name": "stdout",
     "output_type": "stream",
     "text": [
      "Requirement already satisfied: numpy in /home/tommaullin/Documents/ConfSets_Rehaul/.venv/lib/python3.7/site-packages (1.21.6)\n",
      "Requirement already satisfied: pandas in /home/tommaullin/Documents/ConfSets_Rehaul/.venv/lib/python3.7/site-packages (1.3.5)\n",
      "Requirement already satisfied: python-dateutil>=2.7.3 in /home/tommaullin/Documents/ConfSets_Rehaul/.venv/lib/python3.7/site-packages (from pandas) (2.8.2)\n",
      "Requirement already satisfied: pytz>=2017.3 in /home/tommaullin/Documents/ConfSets_Rehaul/.venv/lib/python3.7/site-packages (from pandas) (2023.3)\n",
      "Requirement already satisfied: numpy>=1.17.3 in /home/tommaullin/Documents/ConfSets_Rehaul/.venv/lib/python3.7/site-packages (from pandas) (1.21.6)\n",
      "Requirement already satisfied: six>=1.5 in /home/tommaullin/Documents/ConfSets_Rehaul/.venv/lib/python3.7/site-packages (from python-dateutil>=2.7.3->pandas) (1.16.0)\n",
      "Requirement already satisfied: matplotlib in /home/tommaullin/Documents/ConfSets_Rehaul/.venv/lib/python3.7/site-packages (3.5.3)\n",
      "Requirement already satisfied: cycler>=0.10 in /home/tommaullin/Documents/ConfSets_Rehaul/.venv/lib/python3.7/site-packages (from matplotlib) (0.11.0)\n",
      "Requirement already satisfied: fonttools>=4.22.0 in /home/tommaullin/Documents/ConfSets_Rehaul/.venv/lib/python3.7/site-packages (from matplotlib) (4.38.0)\n",
      "Requirement already satisfied: kiwisolver>=1.0.1 in /home/tommaullin/Documents/ConfSets_Rehaul/.venv/lib/python3.7/site-packages (from matplotlib) (1.4.4)\n",
      "Requirement already satisfied: numpy>=1.17 in /home/tommaullin/Documents/ConfSets_Rehaul/.venv/lib/python3.7/site-packages (from matplotlib) (1.21.6)\n",
      "Requirement already satisfied: packaging>=20.0 in /home/tommaullin/Documents/ConfSets_Rehaul/.venv/lib/python3.7/site-packages (from matplotlib) (23.1)\n",
      "Requirement already satisfied: pillow>=6.2.0 in /home/tommaullin/Documents/ConfSets_Rehaul/.venv/lib/python3.7/site-packages (from matplotlib) (9.5.0)\n",
      "Requirement already satisfied: pyparsing>=2.2.1 in /home/tommaullin/Documents/ConfSets_Rehaul/.venv/lib/python3.7/site-packages (from matplotlib) (3.0.9)\n",
      "Requirement already satisfied: python-dateutil>=2.7 in /home/tommaullin/Documents/ConfSets_Rehaul/.venv/lib/python3.7/site-packages (from matplotlib) (2.8.2)\n",
      "Requirement already satisfied: typing-extensions in /home/tommaullin/Documents/ConfSets_Rehaul/.venv/lib/python3.7/site-packages (from kiwisolver>=1.0.1->matplotlib) (4.5.0)\n",
      "Requirement already satisfied: six>=1.5 in /home/tommaullin/Documents/ConfSets_Rehaul/.venv/lib/python3.7/site-packages (from python-dateutil>=2.7->matplotlib) (1.16.0)\n",
      "Requirement already satisfied: nilearn in /home/tommaullin/Documents/ConfSets_Rehaul/.venv/lib/python3.7/site-packages (0.10.1)\n",
      "Requirement already satisfied: joblib>=1.0.0 in /home/tommaullin/Documents/ConfSets_Rehaul/.venv/lib/python3.7/site-packages (from nilearn) (1.2.0)\n",
      "Requirement already satisfied: lxml in /home/tommaullin/Documents/ConfSets_Rehaul/.venv/lib/python3.7/site-packages (from nilearn) (4.9.2)\n",
      "Requirement already satisfied: nibabel>=3.2.0 in /home/tommaullin/Documents/ConfSets_Rehaul/.venv/lib/python3.7/site-packages (from nilearn) (4.0.2)\n",
      "Requirement already satisfied: numpy>=1.19.0 in /home/tommaullin/Documents/ConfSets_Rehaul/.venv/lib/python3.7/site-packages (from nilearn) (1.21.6)\n",
      "Requirement already satisfied: packaging in /home/tommaullin/Documents/ConfSets_Rehaul/.venv/lib/python3.7/site-packages (from nilearn) (23.1)\n",
      "Requirement already satisfied: pandas>=1.1.5 in /home/tommaullin/Documents/ConfSets_Rehaul/.venv/lib/python3.7/site-packages (from nilearn) (1.3.5)\n",
      "Requirement already satisfied: requests>=2.25.0 in /home/tommaullin/Documents/ConfSets_Rehaul/.venv/lib/python3.7/site-packages (from nilearn) (2.30.0)\n",
      "Requirement already satisfied: scikit-learn>=1.0.0 in /home/tommaullin/Documents/ConfSets_Rehaul/.venv/lib/python3.7/site-packages (from nilearn) (1.0.2)\n",
      "Requirement already satisfied: scipy>=1.6.0 in /home/tommaullin/Documents/ConfSets_Rehaul/.venv/lib/python3.7/site-packages (from nilearn) (1.7.3)\n",
      "Requirement already satisfied: setuptools in /home/tommaullin/Documents/ConfSets_Rehaul/.venv/lib/python3.7/site-packages (from nibabel>=3.2.0->nilearn) (39.0.1)\n",
      "Requirement already satisfied: python-dateutil>=2.7.3 in /home/tommaullin/Documents/ConfSets_Rehaul/.venv/lib/python3.7/site-packages (from pandas>=1.1.5->nilearn) (2.8.2)\n",
      "Requirement already satisfied: pytz>=2017.3 in /home/tommaullin/Documents/ConfSets_Rehaul/.venv/lib/python3.7/site-packages (from pandas>=1.1.5->nilearn) (2023.3)\n",
      "Requirement already satisfied: charset-normalizer<4,>=2 in /home/tommaullin/Documents/ConfSets_Rehaul/.venv/lib/python3.7/site-packages (from requests>=2.25.0->nilearn) (3.1.0)\n",
      "Requirement already satisfied: idna<4,>=2.5 in /home/tommaullin/Documents/ConfSets_Rehaul/.venv/lib/python3.7/site-packages (from requests>=2.25.0->nilearn) (3.4)\n",
      "Requirement already satisfied: urllib3<3,>=1.21.1 in /home/tommaullin/Documents/ConfSets_Rehaul/.venv/lib/python3.7/site-packages (from requests>=2.25.0->nilearn) (2.0.2)\n",
      "Requirement already satisfied: certifi>=2017.4.17 in /home/tommaullin/Documents/ConfSets_Rehaul/.venv/lib/python3.7/site-packages (from requests>=2.25.0->nilearn) (2023.5.7)\n",
      "Requirement already satisfied: threadpoolctl>=2.0.0 in /home/tommaullin/Documents/ConfSets_Rehaul/.venv/lib/python3.7/site-packages (from scikit-learn>=1.0.0->nilearn) (3.1.0)\n",
      "Requirement already satisfied: six>=1.5 in /home/tommaullin/Documents/ConfSets_Rehaul/.venv/lib/python3.7/site-packages (from python-dateutil>=2.7.3->pandas>=1.1.5->nilearn) (1.16.0)\n",
      "Requirement already satisfied: nibabel in /home/tommaullin/Documents/ConfSets_Rehaul/.venv/lib/python3.7/site-packages (4.0.2)\n",
      "Requirement already satisfied: numpy>=1.17 in /home/tommaullin/Documents/ConfSets_Rehaul/.venv/lib/python3.7/site-packages (from nibabel) (1.21.6)\n",
      "Requirement already satisfied: packaging>=17.0 in /home/tommaullin/Documents/ConfSets_Rehaul/.venv/lib/python3.7/site-packages (from nibabel) (23.1)\n",
      "Requirement already satisfied: setuptools in /home/tommaullin/Documents/ConfSets_Rehaul/.venv/lib/python3.7/site-packages (from nibabel) (39.0.1)\n"
     ]
    }
   ],
   "source": [
    "!pip install numpy\n",
    "!pip install pandas\n",
    "!pip install matplotlib\n",
    "!pip install nilearn\n",
    "!pip install nibabel"
   ]
  },
  {
   "cell_type": "code",
   "execution_count": 2,
   "metadata": {},
   "outputs": [],
   "source": [
    "# Basic imports\n",
    "import numpy\n",
    "import yaml\n",
    "import matplotlib.pyplot as plt\n",
    "\n",
    "# Imports from Confidence Regions Toolbox\n",
    "from generate import generate_CRs\n",
    "from bootstrap import bootstrap_resids\n",
    "from coverage import check_violations\n",
    "\n",
    "# Import supporting functions\n",
    "from lib.set_theory import *\n",
    "from lib.boundary import *\n",
    "\n",
    "# Import data generation\n",
    "from tests.generateData import *\n"
   ]
  },
  {
   "attachments": {},
   "cell_type": "markdown",
   "metadata": {},
   "source": [
    "## Data Generation"
   ]
  },
  {
   "attachments": {},
   "cell_type": "markdown",
   "metadata": {},
   "source": [
    "Initial parameters."
   ]
  },
  {
   "cell_type": "code",
   "execution_count": 3,
   "metadata": {},
   "outputs": [],
   "source": [
    "# Number of fields m\n",
    "m = 3\n",
    "\n",
    "# Get number of subjects\n",
    "nSub = 80\n",
    "\n",
    "# Get number of simulation realizations\n",
    "nReals = 100\n",
    "\n",
    "# Get number of bootstraps\n",
    "nBoot = 5000\n",
    "\n",
    "# Get Threshold\n",
    "c = 2\n",
    "\n",
    "# Get p values\n",
    "p = np.linspace(0,1,21)\n",
    "\n",
    "# Get the number of p-values we're looking at\n",
    "nPvals = len(p)\n",
    "\n",
    "# Get Tau\n",
    "tau = '1/np.sqrt(nSub)'\n",
    "\n",
    "# Dimensions of simulated data\n",
    "data_dim = np.array([nSub, 100,100])"
   ]
  },
  {
   "attachments": {},
   "cell_type": "markdown",
   "metadata": {},
   "source": [
    "Create some circular signals."
   ]
  },
  {
   "cell_type": "code",
   "execution_count": 4,
   "metadata": {},
   "outputs": [
    {
     "name": "stderr",
     "output_type": "stream",
     "text": [
      "/home/tommaullin/Documents/ConfSets_Rehaul/.venv/lib/python3.7/site-packages/ipykernel_launcher.py:29: DeprecationWarning: `np.int` is a deprecated alias for the builtin `int`. To silence this warning, use `int` by itself. Doing this will not modify any behavior and is safe. When replacing `np.int`, you may wish to use e.g. `np.int64` or `np.int32` to specify the precision. If you wish to review your current use, check the release note link for additional information.\n",
      "Deprecated in NumPy 1.20; for more details and guidance: https://numpy.org/devdocs/release/1.20.0-notes.html#deprecations\n"
     ]
    }
   ],
   "source": [
    "# ---------------------------------------------------------------\n",
    "# Mus\n",
    "# ---------------------------------------------------------------\n",
    "# Create empty specifications\n",
    "mu_specs = {}\n",
    "\n",
    "# Loop through mus, adding each field in turn\n",
    "for i in np.arange(m):\n",
    "\n",
    "    # New empty dict\n",
    "    mu_specs['mu'+str(i+1)]={}\n",
    "\n",
    "    # Mu type\n",
    "    mu_specs['mu'+str(i+1)]['type'] = 'circle2D' \n",
    "\n",
    "    # Mu FWHM\n",
    "    mu_specs['mu'+str(i+1)]['fwhm'] = np.array([5,5])\n",
    "\n",
    "    # Mu r\n",
    "    mu_specs['mu'+str(i+1)]['r'] = 40\n",
    "\n",
    "    # Mu magnitude\n",
    "    mu_specs['mu'+str(i+1)]['mag'] = 3\n",
    "\n",
    "    # Get some evenly spaced center points\n",
    "    centers = circle_points(np.array([25]),np.array([m]))\n",
    "\n",
    "    # Mu center\n",
    "    mu_specs['mu'+str(i+1)]['center'] = centers[i,:].astype(np.int)\n",
    "\n",
    "# ---------------------------------------------------------------\n",
    "# Epsilons\n",
    "# ---------------------------------------------------------------\n",
    "# Create empty specifications\n",
    "noise_specs = {}\n",
    "\n",
    "# Loop through noises, adding each field in turn\n",
    "for i in np.arange(m):\n",
    "\n",
    "    # New empty dict\n",
    "    noise_specs['noise'+str(i+1)]={}\n",
    "\n",
    "    # Add FWHM\n",
    "    noise_specs['noise'+str(i+1)]['FWHM'] = np.array([0, 3, 3])\n",
    "\n",
    "    # Add type\n",
    "    noise_specs['noise'+str(i+1)]['type'] = 'homogen'"
   ]
  },
  {
   "attachments": {},
   "cell_type": "markdown",
   "metadata": {},
   "source": [
    "Generate the data."
   ]
  },
  {
   "cell_type": "code",
   "execution_count": 5,
   "metadata": {},
   "outputs": [],
   "source": [
    "for i in np.arange(m):\n",
    "\n",
    "    # ----------------------------------------------------------------\n",
    "    # Data generation\n",
    "    # ----------------------------------------------------------------\n",
    "\n",
    "    # Obtain noise\n",
    "    noise = get_noise(noise_specs['noise'+str(i+1)], data_dim)\n",
    "\n",
    "    # Obtain mu\n",
    "    mu = get_mu(mu_specs['mu'+str(i+1)], data_dim)\n",
    "\n",
    "    # Create the data\n",
    "    data = mu + noise\n",
    "\n",
    "    # Save mus\n",
    "    if i == 0:\n",
    "        mus = np.array(mu)\n",
    "    else:\n",
    "        mus = np.concatenate((mus,mu),axis=0)\n",
    "\n",
    "    # Combine data\n",
    "    if i == 0:\n",
    "        datas = np.array(data.reshape(1,*(data.shape)))\n",
    "    else:\n",
    "        datas = np.concatenate((datas,data.reshape(1,*(data.shape))),axis=0)"
   ]
  },
  {
   "attachments": {},
   "cell_type": "markdown",
   "metadata": {},
   "source": [
    "## Make Some Plots"
   ]
  },
  {
   "cell_type": "code",
   "execution_count": 6,
   "metadata": {},
   "outputs": [
    {
     "data": {
      "text/plain": [
       "<matplotlib.colorbar.Colorbar at 0x7fd75377c490>"
      ]
     },
     "execution_count": 6,
     "metadata": {},
     "output_type": "execute_result"
    },
    {
     "data": {
      "image/png": "[encoded data removed]",
      "text/plain": [
       "<Figure size 640x480 with 2 Axes>"
      ]
     },
     "metadata": {},
     "output_type": "display_data"
    }
   ],
   "source": [
    "# Data for the \"5th\" subject\n",
    "plt.imshow(np.mean(datas,axis=1)[2,:,:])\n",
    "plt.colorbar()"
   ]
  },
  {
   "attachments": {},
   "cell_type": "markdown",
   "metadata": {},
   "source": [
    "## Generate Confidence Regions"
   ]
  },
  {
   "cell_type": "code",
   "execution_count": null,
   "metadata": {},
   "outputs": [],
   "source": []
  }
 ],
 "metadata": {
  "kernelspec": {
   "display_name": ".venv",
   "language": "python",
   "name": "python3"
  },
  "language_info": {
   "codemirror_mode": {
    "name": "ipython",
    "version": 3
   },
   "file_extension": ".py",
   "mimetype": "text/x-python",
   "name": "python",
   "nbconvert_exporter": "python",
   "pygments_lexer": "ipython3",
   "version": "3.7.5"
  },
  "orig_nbformat": 4
 },
 "nbformat": 4,
 "nbformat_minor": 2
}
