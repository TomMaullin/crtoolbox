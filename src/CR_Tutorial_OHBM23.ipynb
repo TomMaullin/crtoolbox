{
 "cells": [
  {
   "attachments": {},
   "cell_type": "markdown",
   "metadata": {},
   "source": [
    "# Confidence Regions Workshop OHBM 2023\n",
    "## Beyond blobology: Advances in Statistical Inference for Neuroimaging\n",
    "\n"
   ]
  },
  {
   "attachments": {},
   "cell_type": "markdown",
   "metadata": {},
   "source": [
    "Welcome to the Confidence Regions Workshop at OHBM 2023! This workshop will introduce you to the concept of Confidence Regions (CRs) and how they can be used to make inferences about brain activity. The session shall cover the generation of CRs for excursion sets derived from %BOLD maps, standardized (Cohen’s D) effect size images, and conjunctions (overlaps) for both, and demonstrate CRs using a range of examples. By the end of this workshop, you will have a better understanding of the following:\n",
    "\n",
    "- What CRs are, both conceptually and mathematically.\n",
    "- When you may want to use CRs, and why.\n",
    "- The factors that influence the size and shape of CRs.\n",
    "- Common pitfalls of CR interepretation.\n",
    "- What software is available to generate CRs, and how to use it.\n",
    "\n",
    "In this notebook, we will discuss CRs in the context of the recent debate about the use of null-hypothesis significance testing (NHST) in neuroimaging, and explain how CRs can be used to complement NHST. We shall also consider extensions of the CR method to other types of data, such as effect size images and conjunctions.\n",
    "\n",
    "If you have any questions during this session, please feel free to ask me in person at any time, or reach out via email at [TomMaullin@gmail.com](mailto:TomMaullin@gmail.com). An anonymous feedback for is also available here MARKER."
   ]
  },
  {
   "attachments": {},
   "cell_type": "markdown",
   "metadata": {},
   "source": [
    "### Installation"
   ]
  },
  {
   "attachments": {},
   "cell_type": "markdown",
   "metadata": {},
   "source": [
    "To get started, let's install the necessary software."
   ]
  },
  {
   "cell_type": "code",
   "execution_count": null,
   "metadata": {},
   "outputs": [],
   "source": [
    "%pip install numpy\n",
    "%pip install pandas\n",
    "%pip install matplotlib\n",
    "%pip install nilearn\n",
    "%pip install nibabel\n",
    "%pip install dask\n",
    "%pip install pyyaml"
   ]
  },
  {
   "attachments": {},
   "cell_type": "markdown",
   "metadata": {},
   "source": [
    "And import the necessary packages."
   ]
  },
  {
   "cell_type": "code",
   "execution_count": null,
   "metadata": {},
   "outputs": [],
   "source": [
    "# Basic imports\n",
    "import numpy\n",
    "import yaml\n",
    "import matplotlib.pyplot as plt\n",
    "import nibabel as nib\n",
    "\n",
    "# Imports from Confidence Regions Toolbox\n",
    "from generate import generate_CRs\n",
    "from coverage import check_violations\n",
    "\n",
    "# Import supporting functions\n",
    "from lib.set_theory import *\n",
    "from lib.boundary import *\n",
    "from lib.regression import *\n",
    "\n",
    "# Import data generation\n",
    "from tests.generate_2d_data import *\n",
    "from tests.generate_ni_data import *"
   ]
  },
  {
   "attachments": {},
   "cell_type": "markdown",
   "metadata": {},
   "source": [
    "### Context\n",
    "\n",
    "- Introduce excursions set notation\n",
    "- Explain how NHST is used to make inferences about excursions sets\n",
    "\n",
    "\n",
    "Mass-univariate analyses estimate a true signal for each location in the brain but they do not account for spatial variability.\n",
    "\n",
    "We don’t just want to know about variation in size of signal, but also variation in location.\n",
    "\n",
    "Confidence sets, like confidence intervals in 2D, provide bounds for regions of activation\n",
    "\n",
    "\n",
    "MARKER INSERT EXC SET FIG"
   ]
  },
  {
   "attachments": {},
   "cell_type": "markdown",
   "metadata": {},
   "source": [
    "### What are Confidence Regions?"
   ]
  },
  {
   "attachments": {},
   "cell_type": "markdown",
   "metadata": {},
   "source": [
    "Conceptually, CRs are similar to confidence intervals but, instead of upper and lower bounds for a scalar parameter, they provide estimated inner and outer sets, $\\hat{A}_c^{+}$ and $\\hat{A}_c^{-}$, to bound an excursion set $A_c$. When we see wide confidence intervals for a scalar parameter estimate, this suggests that the procedure which produced the estimate is not very reliable.\n",
    "\n",
    "\n",
    "MARKER INSETRT LINE FIG\n",
    "\n",
    "\n",
    "Similarly, when we see CRs which exhibit little resemblance to one, this is typically interpreted as a lack of reliability in the estimation of the excursion set. In other words, tight resemblance means the estimated excursion set is realiable.\n",
    "\n",
    "MAREKER INSETRT WIDE FIG"
   ]
  },
  {
   "attachments": {},
   "cell_type": "markdown",
   "metadata": {},
   "source": [
    "Let's load in some pre-computed CRs to see what this might look like for fMRI data."
   ]
  },
  {
   "cell_type": "code",
   "execution_count": null,
   "metadata": {},
   "outputs": [],
   "source": [
    "# Load in pre-computed confidence regions.\n",
    "Upper_CR = nib.load('Upper_CR1.nii.gz').get_fdata()\n",
    "Lower_CR = nib.load('Lower_CR1.nii.gz').get_fdata()\n",
    "\n"
   ]
  },
  {
   "attachments": {},
   "cell_type": "markdown",
   "metadata": {},
   "source": []
  },
  {
   "attachments": {},
   "cell_type": "markdown",
   "metadata": {},
   "source": []
  }
 ],
 "metadata": {
  "language_info": {
   "name": "python"
  },
  "orig_nbformat": 4
 },
 "nbformat": 4,
 "nbformat_minor": 2
}
